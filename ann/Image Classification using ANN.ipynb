{
 "cells": [
  {
   "cell_type": "markdown",
   "metadata": {},
   "source": [
    "<h3>1. Import module yang dibutuhkan</h3>"
   ]
  },
  {
   "cell_type": "code",
   "execution_count": 1,
   "metadata": {
    "scrolled": true
   },
   "outputs": [],
   "source": [
    "from sklearn.model_selection import train_test_split\n",
    "from sklearn.preprocessing import LabelBinarizer\n",
    "from sklearn.metrics import classification_report\n",
    "from tensorflow.keras.models import Sequential\n",
    "from tensorflow.keras.layers import Dense\n",
    "from tensorflow.keras.optimizers import SGD\n",
    "import numpy as np\n",
    "import cv2\n",
    "import glob\n",
    "import matplotlib.pyplot as plt"
   ]
  },
  {
   "cell_type": "code",
   "execution_count": null,
   "metadata": {},
   "outputs": [],
   "source": []
  },
  {
   "cell_type": "code",
   "execution_count": null,
   "metadata": {},
   "outputs": [],
   "source": []
  },
  {
   "cell_type": "markdown",
   "metadata": {},
   "source": [
    "<h3>2. Load Dataset</h3>"
   ]
  },
  {
   "cell_type": "code",
   "execution_count": 2,
   "metadata": {},
   "outputs": [],
   "source": [
    "imagePaths = 'dataset\\\\daun\\\\'\n",
    "label_list = ['blimbing', 'jeruk','kemangi']\n",
    "data = []\n",
    "labels = []"
   ]
  },
  {
   "cell_type": "code",
   "execution_count": 3,
   "metadata": {},
   "outputs": [],
   "source": [
    "for label in label_list:\n",
    "    for imagePath in glob.glob(imagePaths+label+'\\\\*.jpg'):\n",
    "        #print(imagePath)\n",
    "        image = cv2.imread(imagePath)\n",
    "        image = cv2.resize(image, (32, 32)).flatten()\n",
    "        data.append(image)\n",
    "        labels.append(label)"
   ]
  },
  {
   "cell_type": "code",
   "execution_count": 4,
   "metadata": {},
   "outputs": [
    {
     "data": {
      "text/plain": [
       "(150, 3072)"
      ]
     },
     "execution_count": 4,
     "metadata": {},
     "output_type": "execute_result"
    }
   ],
   "source": [
    "np.array(data).shape"
   ]
  },
  {
   "cell_type": "markdown",
   "metadata": {},
   "source": [
    "<h3>3. Data Preprocessing</h3>"
   ]
  },
  {
   "cell_type": "code",
   "execution_count": 5,
   "metadata": {},
   "outputs": [],
   "source": [
    "# ubah type data dari list menjadi array\n",
    "# ubah nilai dari tiap pixel menjadi range [0..1]\n",
    "data = np.array(data, dtype='float') / 255.0\n",
    "labels = np.array(labels)"
   ]
  },
  {
   "cell_type": "code",
   "execution_count": 6,
   "metadata": {},
   "outputs": [
    {
     "name": "stdout",
     "output_type": "stream",
     "text": [
      "['blimbing' 'blimbing' 'blimbing' 'blimbing' 'blimbing' 'blimbing'\n",
      " 'blimbing' 'blimbing' 'blimbing' 'blimbing' 'blimbing' 'blimbing'\n",
      " 'blimbing' 'blimbing' 'blimbing' 'blimbing' 'blimbing' 'blimbing'\n",
      " 'blimbing' 'blimbing' 'blimbing' 'blimbing' 'blimbing' 'blimbing'\n",
      " 'blimbing' 'blimbing' 'blimbing' 'blimbing' 'blimbing' 'blimbing'\n",
      " 'blimbing' 'blimbing' 'blimbing' 'blimbing' 'blimbing' 'blimbing'\n",
      " 'blimbing' 'blimbing' 'blimbing' 'blimbing' 'blimbing' 'blimbing'\n",
      " 'blimbing' 'blimbing' 'blimbing' 'blimbing' 'blimbing' 'blimbing'\n",
      " 'blimbing' 'blimbing' 'jeruk' 'jeruk' 'jeruk' 'jeruk' 'jeruk' 'jeruk'\n",
      " 'jeruk' 'jeruk' 'jeruk' 'jeruk' 'jeruk' 'jeruk' 'jeruk' 'jeruk' 'jeruk'\n",
      " 'jeruk' 'jeruk' 'jeruk' 'jeruk' 'jeruk' 'jeruk' 'jeruk' 'jeruk' 'jeruk'\n",
      " 'jeruk' 'jeruk' 'jeruk' 'jeruk' 'jeruk' 'jeruk' 'jeruk' 'jeruk' 'jeruk'\n",
      " 'jeruk' 'jeruk' 'jeruk' 'jeruk' 'jeruk' 'jeruk' 'jeruk' 'jeruk' 'jeruk'\n",
      " 'jeruk' 'jeruk' 'jeruk' 'jeruk' 'jeruk' 'jeruk' 'jeruk' 'jeruk' 'kemangi'\n",
      " 'kemangi' 'kemangi' 'kemangi' 'kemangi' 'kemangi' 'kemangi' 'kemangi'\n",
      " 'kemangi' 'kemangi' 'kemangi' 'kemangi' 'kemangi' 'kemangi' 'kemangi'\n",
      " 'kemangi' 'kemangi' 'kemangi' 'kemangi' 'kemangi' 'kemangi' 'kemangi'\n",
      " 'kemangi' 'kemangi' 'kemangi' 'kemangi' 'kemangi' 'kemangi' 'kemangi'\n",
      " 'kemangi' 'kemangi' 'kemangi' 'kemangi' 'kemangi' 'kemangi' 'kemangi'\n",
      " 'kemangi' 'kemangi' 'kemangi' 'kemangi' 'kemangi' 'kemangi' 'kemangi'\n",
      " 'kemangi' 'kemangi' 'kemangi' 'kemangi' 'kemangi' 'kemangi' 'kemangi']\n"
     ]
    }
   ],
   "source": [
    "print(labels)"
   ]
  },
  {
   "cell_type": "code",
   "execution_count": 7,
   "metadata": {},
   "outputs": [
    {
     "name": "stdout",
     "output_type": "stream",
     "text": [
      "[[1 0 0]\n",
      " [1 0 0]\n",
      " [1 0 0]\n",
      " [1 0 0]\n",
      " [1 0 0]\n",
      " [1 0 0]\n",
      " [1 0 0]\n",
      " [1 0 0]\n",
      " [1 0 0]\n",
      " [1 0 0]\n",
      " [1 0 0]\n",
      " [1 0 0]\n",
      " [1 0 0]\n",
      " [1 0 0]\n",
      " [1 0 0]\n",
      " [1 0 0]\n",
      " [1 0 0]\n",
      " [1 0 0]\n",
      " [1 0 0]\n",
      " [1 0 0]\n",
      " [1 0 0]\n",
      " [1 0 0]\n",
      " [1 0 0]\n",
      " [1 0 0]\n",
      " [1 0 0]\n",
      " [1 0 0]\n",
      " [1 0 0]\n",
      " [1 0 0]\n",
      " [1 0 0]\n",
      " [1 0 0]\n",
      " [1 0 0]\n",
      " [1 0 0]\n",
      " [1 0 0]\n",
      " [1 0 0]\n",
      " [1 0 0]\n",
      " [1 0 0]\n",
      " [1 0 0]\n",
      " [1 0 0]\n",
      " [1 0 0]\n",
      " [1 0 0]\n",
      " [1 0 0]\n",
      " [1 0 0]\n",
      " [1 0 0]\n",
      " [1 0 0]\n",
      " [1 0 0]\n",
      " [1 0 0]\n",
      " [1 0 0]\n",
      " [1 0 0]\n",
      " [1 0 0]\n",
      " [1 0 0]\n",
      " [0 1 0]\n",
      " [0 1 0]\n",
      " [0 1 0]\n",
      " [0 1 0]\n",
      " [0 1 0]\n",
      " [0 1 0]\n",
      " [0 1 0]\n",
      " [0 1 0]\n",
      " [0 1 0]\n",
      " [0 1 0]\n",
      " [0 1 0]\n",
      " [0 1 0]\n",
      " [0 1 0]\n",
      " [0 1 0]\n",
      " [0 1 0]\n",
      " [0 1 0]\n",
      " [0 1 0]\n",
      " [0 1 0]\n",
      " [0 1 0]\n",
      " [0 1 0]\n",
      " [0 1 0]\n",
      " [0 1 0]\n",
      " [0 1 0]\n",
      " [0 1 0]\n",
      " [0 1 0]\n",
      " [0 1 0]\n",
      " [0 1 0]\n",
      " [0 1 0]\n",
      " [0 1 0]\n",
      " [0 1 0]\n",
      " [0 1 0]\n",
      " [0 1 0]\n",
      " [0 1 0]\n",
      " [0 1 0]\n",
      " [0 1 0]\n",
      " [0 1 0]\n",
      " [0 1 0]\n",
      " [0 1 0]\n",
      " [0 1 0]\n",
      " [0 1 0]\n",
      " [0 1 0]\n",
      " [0 1 0]\n",
      " [0 1 0]\n",
      " [0 1 0]\n",
      " [0 1 0]\n",
      " [0 1 0]\n",
      " [0 1 0]\n",
      " [0 1 0]\n",
      " [0 1 0]\n",
      " [0 1 0]\n",
      " [0 0 1]\n",
      " [0 0 1]\n",
      " [0 0 1]\n",
      " [0 0 1]\n",
      " [0 0 1]\n",
      " [0 0 1]\n",
      " [0 0 1]\n",
      " [0 0 1]\n",
      " [0 0 1]\n",
      " [0 0 1]\n",
      " [0 0 1]\n",
      " [0 0 1]\n",
      " [0 0 1]\n",
      " [0 0 1]\n",
      " [0 0 1]\n",
      " [0 0 1]\n",
      " [0 0 1]\n",
      " [0 0 1]\n",
      " [0 0 1]\n",
      " [0 0 1]\n",
      " [0 0 1]\n",
      " [0 0 1]\n",
      " [0 0 1]\n",
      " [0 0 1]\n",
      " [0 0 1]\n",
      " [0 0 1]\n",
      " [0 0 1]\n",
      " [0 0 1]\n",
      " [0 0 1]\n",
      " [0 0 1]\n",
      " [0 0 1]\n",
      " [0 0 1]\n",
      " [0 0 1]\n",
      " [0 0 1]\n",
      " [0 0 1]\n",
      " [0 0 1]\n",
      " [0 0 1]\n",
      " [0 0 1]\n",
      " [0 0 1]\n",
      " [0 0 1]\n",
      " [0 0 1]\n",
      " [0 0 1]\n",
      " [0 0 1]\n",
      " [0 0 1]\n",
      " [0 0 1]\n",
      " [0 0 1]\n",
      " [0 0 1]\n",
      " [0 0 1]\n",
      " [0 0 1]\n",
      " [0 0 1]]\n"
     ]
    }
   ],
   "source": [
    "# ubah nilai dari labels menjadi binary\n",
    "lb = LabelBinarizer()\n",
    "labels = lb.fit_transform(labels)\n",
    "print(labels)"
   ]
  },
  {
   "cell_type": "markdown",
   "metadata": {},
   "source": [
    "<h3>4. Split Dataset</h3>"
   ]
  },
  {
   "cell_type": "code",
   "execution_count": 8,
   "metadata": {},
   "outputs": [],
   "source": [
    "x_train, x_test, y_train, y_test = train_test_split(data, labels, test_size=0.2, random_state=42)"
   ]
  },
  {
   "cell_type": "code",
   "execution_count": 9,
   "metadata": {},
   "outputs": [
    {
     "name": "stdout",
     "output_type": "stream",
     "text": [
      "Ukuran data train = (120, 3072)\n",
      "Ukuran data test = (30, 3072)\n"
     ]
    }
   ],
   "source": [
    "print('Ukuran data train =', x_train.shape)\n",
    "print('Ukuran data test =', x_test.shape)"
   ]
  },
  {
   "cell_type": "markdown",
   "metadata": {},
   "source": [
    "<h3>5. Build ANN Architecture</h3>"
   ]
  },
  {
   "cell_type": "code",
   "execution_count": 10,
   "metadata": {},
   "outputs": [],
   "source": [
    "# buat ANN dengan arsitektur input layer (3072) - hidden layer (512) - hidden layer (1024) - output layer (3)\n",
    "model = Sequential()\n",
    "model.add(Dense(512, input_shape=(3072,), activation=\"relu\"))\n",
    "model.add(Dense(1024, activation=\"relu\"))\n",
    "model.add(Dense(len(label_list), activation=\"softmax\"))"
   ]
  },
  {
   "cell_type": "code",
   "execution_count": 31,
   "metadata": {},
   "outputs": [
    {
     "name": "stdout",
     "output_type": "stream",
     "text": [
      "Model: \"sequential_1\"\n",
      "_________________________________________________________________\n",
      "Layer (type)                 Output Shape              Param #   \n",
      "=================================================================\n",
      "dense_3 (Dense)              (None, 512)               1573376   \n",
      "_________________________________________________________________\n",
      "dense_4 (Dense)              (None, 1024)              525312    \n",
      "_________________________________________________________________\n",
      "dense_5 (Dense)              (None, 3)                 3075      \n",
      "=================================================================\n",
      "Total params: 2,101,763\n",
      "Trainable params: 2,101,763\n",
      "Non-trainable params: 0\n",
      "_________________________________________________________________\n"
     ]
    }
   ],
   "source": [
    "model.summary()"
   ]
  },
  {
   "cell_type": "code",
   "execution_count": 11,
   "metadata": {},
   "outputs": [],
   "source": [
    "# tentukan hyperparameter\n",
    "lr = 0.01\n",
    "max_epochs = 100\n",
    "opt_funct = SGD(learning_rate=lr)"
   ]
  },
  {
   "cell_type": "code",
   "execution_count": 12,
   "metadata": {},
   "outputs": [],
   "source": [
    "# compile arsitektur yang telah dibuat\n",
    "model.compile(loss = 'categorical_crossentropy', \n",
    "              optimizer = opt_funct, \n",
    "              metrics = ['accuracy'])"
   ]
  },
  {
   "cell_type": "markdown",
   "metadata": {},
   "source": [
    "<h3>6. Train Model</h3>"
   ]
  },
  {
   "cell_type": "code",
   "execution_count": 13,
   "metadata": {},
   "outputs": [
    {
     "name": "stdout",
     "output_type": "stream",
     "text": [
      "Epoch 1/100\n",
      "4/4 [==============================] - 4s 110ms/step - loss: 1.9294 - accuracy: 0.2500 - val_loss: 1.2883 - val_accuracy: 0.3333\n",
      "Epoch 2/100\n",
      "4/4 [==============================] - 0s 21ms/step - loss: 1.0574 - accuracy: 0.4250 - val_loss: 0.9428 - val_accuracy: 0.5667\n",
      "Epoch 3/100\n",
      "4/4 [==============================] - 0s 22ms/step - loss: 0.9996 - accuracy: 0.4000 - val_loss: 0.9114 - val_accuracy: 0.5667\n",
      "Epoch 4/100\n",
      "4/4 [==============================] - 0s 24ms/step - loss: 0.8318 - accuracy: 0.6667 - val_loss: 0.8463 - val_accuracy: 0.6333\n",
      "Epoch 5/100\n",
      "4/4 [==============================] - 0s 24ms/step - loss: 0.8588 - accuracy: 0.5833 - val_loss: 0.7361 - val_accuracy: 0.9000\n",
      "Epoch 6/100\n",
      "4/4 [==============================] - 0s 23ms/step - loss: 0.7906 - accuracy: 0.6667 - val_loss: 0.9621 - val_accuracy: 0.3667\n",
      "Epoch 7/100\n",
      "4/4 [==============================] - 0s 22ms/step - loss: 0.7949 - accuracy: 0.6583 - val_loss: 0.7670 - val_accuracy: 0.6000\n",
      "Epoch 8/100\n",
      "4/4 [==============================] - 0s 21ms/step - loss: 0.6793 - accuracy: 0.6917 - val_loss: 0.7617 - val_accuracy: 0.6667\n",
      "Epoch 9/100\n",
      "4/4 [==============================] - 0s 20ms/step - loss: 0.7361 - accuracy: 0.6333 - val_loss: 0.7171 - val_accuracy: 0.6333\n",
      "Epoch 10/100\n",
      "4/4 [==============================] - 0s 24ms/step - loss: 0.7351 - accuracy: 0.5917 - val_loss: 0.6201 - val_accuracy: 0.7000\n",
      "Epoch 11/100\n",
      "4/4 [==============================] - 0s 23ms/step - loss: 0.5586 - accuracy: 0.7333 - val_loss: 0.5964 - val_accuracy: 0.8333\n",
      "Epoch 12/100\n",
      "4/4 [==============================] - 0s 24ms/step - loss: 0.6283 - accuracy: 0.8167 - val_loss: 0.5287 - val_accuracy: 0.9333\n",
      "Epoch 13/100\n",
      "4/4 [==============================] - 0s 22ms/step - loss: 0.5763 - accuracy: 0.7667 - val_loss: 0.5161 - val_accuracy: 0.9000\n",
      "Epoch 14/100\n",
      "4/4 [==============================] - 0s 21ms/step - loss: 0.5084 - accuracy: 0.8333 - val_loss: 0.7457 - val_accuracy: 0.6333\n",
      "Epoch 15/100\n",
      "4/4 [==============================] - 0s 24ms/step - loss: 0.5007 - accuracy: 0.8500 - val_loss: 0.5113 - val_accuracy: 0.7333\n",
      "Epoch 16/100\n",
      "4/4 [==============================] - 0s 24ms/step - loss: 0.6723 - accuracy: 0.6833 - val_loss: 0.5304 - val_accuracy: 0.7000\n",
      "Epoch 17/100\n",
      "4/4 [==============================] - 0s 23ms/step - loss: 0.5751 - accuracy: 0.6583 - val_loss: 0.6334 - val_accuracy: 0.6667\n",
      "Epoch 18/100\n",
      "4/4 [==============================] - 0s 24ms/step - loss: 0.4448 - accuracy: 0.7333 - val_loss: 0.4794 - val_accuracy: 0.9000\n",
      "Epoch 19/100\n",
      "4/4 [==============================] - 0s 23ms/step - loss: 0.4500 - accuracy: 0.8500 - val_loss: 0.5445 - val_accuracy: 0.6333\n",
      "Epoch 20/100\n",
      "4/4 [==============================] - 0s 25ms/step - loss: 0.6062 - accuracy: 0.7000 - val_loss: 0.4473 - val_accuracy: 0.8667\n",
      "Epoch 21/100\n",
      "4/4 [==============================] - 0s 22ms/step - loss: 0.4107 - accuracy: 0.8917 - val_loss: 0.5036 - val_accuracy: 0.6667\n",
      "Epoch 22/100\n",
      "4/4 [==============================] - 0s 22ms/step - loss: 0.4158 - accuracy: 0.8250 - val_loss: 0.5962 - val_accuracy: 0.6333\n",
      "Epoch 23/100\n",
      "4/4 [==============================] - 0s 23ms/step - loss: 0.4126 - accuracy: 0.8667 - val_loss: 0.4215 - val_accuracy: 0.8333\n",
      "Epoch 24/100\n",
      "4/4 [==============================] - 0s 25ms/step - loss: 0.5286 - accuracy: 0.6833 - val_loss: 0.5734 - val_accuracy: 0.6333\n",
      "Epoch 25/100\n",
      "4/4 [==============================] - 0s 24ms/step - loss: 0.5929 - accuracy: 0.6750 - val_loss: 0.4148 - val_accuracy: 0.9333\n",
      "Epoch 26/100\n",
      "4/4 [==============================] - 0s 22ms/step - loss: 0.3919 - accuracy: 0.8250 - val_loss: 0.4216 - val_accuracy: 0.8333\n",
      "Epoch 27/100\n",
      "4/4 [==============================] - 0s 22ms/step - loss: 0.3712 - accuracy: 0.8667 - val_loss: 0.4237 - val_accuracy: 0.8000\n",
      "Epoch 28/100\n",
      "4/4 [==============================] - 0s 27ms/step - loss: 0.4422 - accuracy: 0.7417 - val_loss: 0.3931 - val_accuracy: 0.8667\n",
      "Epoch 29/100\n",
      "4/4 [==============================] - 0s 24ms/step - loss: 0.3671 - accuracy: 0.8750 - val_loss: 0.3600 - val_accuracy: 0.9333\n",
      "Epoch 30/100\n",
      "4/4 [==============================] - 0s 24ms/step - loss: 0.3983 - accuracy: 0.8333 - val_loss: 0.7325 - val_accuracy: 0.6333\n",
      "Epoch 31/100\n",
      "4/4 [==============================] - 0s 22ms/step - loss: 0.4509 - accuracy: 0.8083 - val_loss: 0.3635 - val_accuracy: 0.9333\n",
      "Epoch 32/100\n",
      "4/4 [==============================] - 0s 21ms/step - loss: 0.3369 - accuracy: 0.9333 - val_loss: 0.3691 - val_accuracy: 0.9000\n",
      "Epoch 33/100\n",
      "4/4 [==============================] - 0s 30ms/step - loss: 0.3470 - accuracy: 0.8917 - val_loss: 0.4324 - val_accuracy: 0.6667\n",
      "Epoch 34/100\n",
      "4/4 [==============================] - 0s 26ms/step - loss: 0.3678 - accuracy: 0.7917 - val_loss: 0.4741 - val_accuracy: 0.6667\n",
      "Epoch 35/100\n",
      "4/4 [==============================] - 0s 36ms/step - loss: 0.5578 - accuracy: 0.6583 - val_loss: 0.7435 - val_accuracy: 0.6333\n",
      "Epoch 36/100\n",
      "4/4 [==============================] - 0s 30ms/step - loss: 0.4378 - accuracy: 0.8417 - val_loss: 0.3465 - val_accuracy: 0.9333\n",
      "Epoch 37/100\n",
      "4/4 [==============================] - 0s 30ms/step - loss: 0.4027 - accuracy: 0.8083 - val_loss: 0.3396 - val_accuracy: 0.9333\n",
      "Epoch 38/100\n",
      "4/4 [==============================] - 0s 28ms/step - loss: 0.3319 - accuracy: 0.8917 - val_loss: 0.3202 - val_accuracy: 0.9333\n",
      "Epoch 39/100\n",
      "4/4 [==============================] - 0s 29ms/step - loss: 0.3944 - accuracy: 0.7917 - val_loss: 0.3699 - val_accuracy: 0.7667\n",
      "Epoch 40/100\n",
      "4/4 [==============================] - 0s 27ms/step - loss: 0.3401 - accuracy: 0.8417 - val_loss: 0.5371 - val_accuracy: 0.6667\n",
      "Epoch 41/100\n",
      "4/4 [==============================] - 0s 30ms/step - loss: 0.4202 - accuracy: 0.7667 - val_loss: 0.3676 - val_accuracy: 0.8333\n",
      "Epoch 42/100\n",
      "4/4 [==============================] - 0s 23ms/step - loss: 0.3461 - accuracy: 0.8083 - val_loss: 0.3349 - val_accuracy: 0.9000\n",
      "Epoch 43/100\n",
      "4/4 [==============================] - 0s 25ms/step - loss: 0.3866 - accuracy: 0.8000 - val_loss: 0.4002 - val_accuracy: 0.8000\n",
      "Epoch 44/100\n",
      "4/4 [==============================] - 0s 23ms/step - loss: 0.4363 - accuracy: 0.7333 - val_loss: 0.3138 - val_accuracy: 0.9333\n",
      "Epoch 45/100\n",
      "4/4 [==============================] - 0s 27ms/step - loss: 0.3330 - accuracy: 0.8917 - val_loss: 0.4589 - val_accuracy: 0.6667\n",
      "Epoch 46/100\n",
      "4/4 [==============================] - 0s 29ms/step - loss: 0.3354 - accuracy: 0.8167 - val_loss: 0.3647 - val_accuracy: 0.8333\n",
      "Epoch 47/100\n",
      "4/4 [==============================] - 0s 26ms/step - loss: 0.3034 - accuracy: 0.8833 - val_loss: 0.3428 - val_accuracy: 0.8333\n",
      "Epoch 48/100\n",
      "4/4 [==============================] - 0s 30ms/step - loss: 0.3129 - accuracy: 0.8750 - val_loss: 0.2853 - val_accuracy: 0.9333\n",
      "Epoch 49/100\n",
      "4/4 [==============================] - ETA: 0s - loss: 0.2757 - accuracy: 0.93 - 0s 25ms/step - loss: 0.3920 - accuracy: 0.7833 - val_loss: 0.9131 - val_accuracy: 0.6667\n",
      "Epoch 50/100\n",
      "4/4 [==============================] - 0s 32ms/step - loss: 0.6254 - accuracy: 0.6417 - val_loss: 0.3229 - val_accuracy: 0.9333\n",
      "Epoch 51/100\n",
      "4/4 [==============================] - 0s 22ms/step - loss: 0.3317 - accuracy: 0.8833 - val_loss: 0.2937 - val_accuracy: 0.9333\n",
      "Epoch 52/100\n",
      "4/4 [==============================] - 0s 24ms/step - loss: 0.2844 - accuracy: 0.8917 - val_loss: 0.3471 - val_accuracy: 0.8333\n",
      "Epoch 53/100\n",
      "4/4 [==============================] - 0s 22ms/step - loss: 0.3522 - accuracy: 0.8167 - val_loss: 0.3828 - val_accuracy: 0.8000\n",
      "Epoch 54/100\n",
      "4/4 [==============================] - 0s 21ms/step - loss: 0.3416 - accuracy: 0.7917 - val_loss: 0.2766 - val_accuracy: 0.9333\n",
      "Epoch 55/100\n",
      "4/4 [==============================] - 0s 25ms/step - loss: 0.3047 - accuracy: 0.8583 - val_loss: 0.4679 - val_accuracy: 0.6667\n",
      "Epoch 56/100\n",
      "4/4 [==============================] - 0s 22ms/step - loss: 0.4104 - accuracy: 0.7583 - val_loss: 0.2853 - val_accuracy: 0.9333\n",
      "Epoch 57/100\n",
      "4/4 [==============================] - 0s 24ms/step - loss: 0.2545 - accuracy: 0.9667 - val_loss: 0.2773 - val_accuracy: 0.9333\n",
      "Epoch 58/100\n",
      "4/4 [==============================] - 0s 21ms/step - loss: 0.2938 - accuracy: 0.9000 - val_loss: 0.4068 - val_accuracy: 0.7333\n"
     ]
    },
    {
     "name": "stdout",
     "output_type": "stream",
     "text": [
      "Epoch 59/100\n",
      "4/4 [==============================] - 0s 21ms/step - loss: 0.3733 - accuracy: 0.7833 - val_loss: 0.4162 - val_accuracy: 0.7000\n",
      "Epoch 60/100\n",
      "4/4 [==============================] - 0s 23ms/step - loss: 0.2880 - accuracy: 0.8667 - val_loss: 0.2618 - val_accuracy: 0.9333\n",
      "Epoch 61/100\n",
      "4/4 [==============================] - 0s 20ms/step - loss: 0.2441 - accuracy: 0.9333 - val_loss: 0.2447 - val_accuracy: 0.9333\n",
      "Epoch 62/100\n",
      "4/4 [==============================] - 0s 20ms/step - loss: 0.2365 - accuracy: 0.9417 - val_loss: 0.2945 - val_accuracy: 0.9333\n",
      "Epoch 63/100\n",
      "4/4 [==============================] - 0s 21ms/step - loss: 0.2921 - accuracy: 0.8917 - val_loss: 0.5124 - val_accuracy: 0.6667\n",
      "Epoch 64/100\n",
      "4/4 [==============================] - 0s 21ms/step - loss: 0.5050 - accuracy: 0.6833 - val_loss: 0.2730 - val_accuracy: 0.9333\n",
      "Epoch 65/100\n",
      "4/4 [==============================] - 0s 22ms/step - loss: 0.2886 - accuracy: 0.9000 - val_loss: 0.3196 - val_accuracy: 0.9000\n",
      "Epoch 66/100\n",
      "4/4 [==============================] - 0s 20ms/step - loss: 0.3487 - accuracy: 0.8167 - val_loss: 0.2496 - val_accuracy: 0.9333\n",
      "Epoch 67/100\n",
      "4/4 [==============================] - 0s 20ms/step - loss: 0.2362 - accuracy: 0.9333 - val_loss: 0.2533 - val_accuracy: 0.9333\n",
      "Epoch 68/100\n",
      "4/4 [==============================] - 0s 22ms/step - loss: 0.2295 - accuracy: 0.9417 - val_loss: 0.2233 - val_accuracy: 0.9333\n",
      "Epoch 69/100\n",
      "4/4 [==============================] - 0s 20ms/step - loss: 0.3309 - accuracy: 0.8250 - val_loss: 0.2702 - val_accuracy: 0.9333\n",
      "Epoch 70/100\n",
      "4/4 [==============================] - 0s 20ms/step - loss: 0.2959 - accuracy: 0.8750 - val_loss: 0.7049 - val_accuracy: 0.6333\n",
      "Epoch 71/100\n",
      "4/4 [==============================] - 0s 24ms/step - loss: 0.4814 - accuracy: 0.7417 - val_loss: 0.4899 - val_accuracy: 0.6667\n",
      "Epoch 72/100\n",
      "4/4 [==============================] - 0s 21ms/step - loss: 0.4188 - accuracy: 0.7500 - val_loss: 0.3279 - val_accuracy: 0.8667\n",
      "Epoch 73/100\n",
      "4/4 [==============================] - 0s 21ms/step - loss: 0.3149 - accuracy: 0.8500 - val_loss: 0.2337 - val_accuracy: 0.9667\n",
      "Epoch 74/100\n",
      "4/4 [==============================] - 0s 24ms/step - loss: 0.3920 - accuracy: 0.7750 - val_loss: 0.4488 - val_accuracy: 0.6667\n",
      "Epoch 75/100\n",
      "4/4 [==============================] - 0s 21ms/step - loss: 0.3671 - accuracy: 0.7917 - val_loss: 0.2422 - val_accuracy: 0.9000\n",
      "Epoch 76/100\n",
      "4/4 [==============================] - 0s 22ms/step - loss: 0.2536 - accuracy: 0.8833 - val_loss: 0.3877 - val_accuracy: 0.7333\n",
      "Epoch 77/100\n",
      "4/4 [==============================] - 0s 22ms/step - loss: 0.3516 - accuracy: 0.8167 - val_loss: 0.3377 - val_accuracy: 0.7333\n",
      "Epoch 78/100\n",
      "4/4 [==============================] - 0s 21ms/step - loss: 0.2312 - accuracy: 0.9417 - val_loss: 0.2398 - val_accuracy: 0.9333\n",
      "Epoch 79/100\n",
      "4/4 [==============================] - 0s 23ms/step - loss: 0.3520 - accuracy: 0.7750 - val_loss: 0.2223 - val_accuracy: 0.9333\n",
      "Epoch 80/100\n",
      "4/4 [==============================] - 0s 22ms/step - loss: 0.2342 - accuracy: 0.9250 - val_loss: 0.3324 - val_accuracy: 0.7667\n",
      "Epoch 81/100\n",
      "4/4 [==============================] - 0s 20ms/step - loss: 0.2331 - accuracy: 0.9000 - val_loss: 0.4242 - val_accuracy: 0.7000\n",
      "Epoch 82/100\n",
      "4/4 [==============================] - 0s 24ms/step - loss: 0.5421 - accuracy: 0.6750 - val_loss: 0.3069 - val_accuracy: 0.9333\n",
      "Epoch 83/100\n",
      "4/4 [==============================] - 0s 21ms/step - loss: 0.2286 - accuracy: 0.9417 - val_loss: 0.2167 - val_accuracy: 0.9333\n",
      "Epoch 84/100\n",
      "4/4 [==============================] - 0s 24ms/step - loss: 0.2110 - accuracy: 0.9333 - val_loss: 0.2363 - val_accuracy: 0.9333\n",
      "Epoch 85/100\n",
      "4/4 [==============================] - 0s 21ms/step - loss: 0.2095 - accuracy: 0.9500 - val_loss: 0.4639 - val_accuracy: 0.7000\n",
      "Epoch 86/100\n",
      "4/4 [==============================] - 0s 20ms/step - loss: 0.2983 - accuracy: 0.8250 - val_loss: 0.5325 - val_accuracy: 0.6667\n",
      "Epoch 87/100\n",
      "4/4 [==============================] - 0s 22ms/step - loss: 0.3652 - accuracy: 0.8000 - val_loss: 0.3461 - val_accuracy: 0.7333\n",
      "Epoch 88/100\n",
      "4/4 [==============================] - 0s 20ms/step - loss: 0.2099 - accuracy: 0.9250 - val_loss: 0.2173 - val_accuracy: 0.9333\n",
      "Epoch 89/100\n",
      "4/4 [==============================] - 0s 20ms/step - loss: 0.2036 - accuracy: 0.9500 - val_loss: 0.2001 - val_accuracy: 0.9333\n",
      "Epoch 90/100\n",
      "4/4 [==============================] - 0s 22ms/step - loss: 0.1896 - accuracy: 0.9417 - val_loss: 0.2068 - val_accuracy: 0.9333\n",
      "Epoch 91/100\n",
      "4/4 [==============================] - 0s 20ms/step - loss: 0.2532 - accuracy: 0.8667 - val_loss: 0.6238 - val_accuracy: 0.6667\n",
      "Epoch 92/100\n",
      "4/4 [==============================] - 0s 22ms/step - loss: 0.4899 - accuracy: 0.6917 - val_loss: 0.4200 - val_accuracy: 0.7333\n",
      "Epoch 93/100\n",
      "4/4 [==============================] - 0s 21ms/step - loss: 0.4073 - accuracy: 0.8083 - val_loss: 0.2479 - val_accuracy: 0.9333\n",
      "Epoch 94/100\n",
      "4/4 [==============================] - 0s 21ms/step - loss: 0.2083 - accuracy: 0.9417 - val_loss: 0.1951 - val_accuracy: 0.9333\n",
      "Epoch 95/100\n",
      "4/4 [==============================] - 0s 22ms/step - loss: 0.3993 - accuracy: 0.8167 - val_loss: 0.2127 - val_accuracy: 0.9333\n",
      "Epoch 96/100\n",
      "4/4 [==============================] - 0s 23ms/step - loss: 0.3101 - accuracy: 0.8333 - val_loss: 0.2654 - val_accuracy: 0.9333\n",
      "Epoch 97/100\n",
      "4/4 [==============================] - 0s 35ms/step - loss: 0.1983 - accuracy: 0.9500 - val_loss: 0.1908 - val_accuracy: 0.9667\n",
      "Epoch 98/100\n",
      "4/4 [==============================] - 0s 31ms/step - loss: 0.2067 - accuracy: 0.9250 - val_loss: 0.2073 - val_accuracy: 0.9333\n",
      "Epoch 99/100\n",
      "4/4 [==============================] - 0s 38ms/step - loss: 0.1880 - accuracy: 0.9500 - val_loss: 0.1798 - val_accuracy: 0.9667\n",
      "Epoch 100/100\n",
      "4/4 [==============================] - 0s 35ms/step - loss: 0.1766 - accuracy: 0.9667 - val_loss: 0.2139 - val_accuracy: 0.9333\n"
     ]
    }
   ],
   "source": [
    "H = model.fit(x_train, y_train, validation_data=(x_test, y_test), \n",
    "          epochs=max_epochs, batch_size=32)"
   ]
  },
  {
   "cell_type": "code",
   "execution_count": 14,
   "metadata": {},
   "outputs": [
    {
     "data": {
      "image/png": "[encoded data removed]",
      "text/plain": [
       "<Figure size 432x288 with 1 Axes>"
      ]
     },
     "metadata": {},
     "output_type": "display_data"
    }
   ],
   "source": [
    "N = np.arange(0, max_epochs)\n",
    "plt.style.use(\"ggplot\")\n",
    "plt.figure()\n",
    "plt.plot(N, H.history[\"loss\"], label=\"train_loss\")\n",
    "plt.plot(N, H.history[\"val_loss\"], label=\"val_loss\")\n",
    "plt.plot(N, H.history[\"accuracy\"], label=\"train_acc\")\n",
    "plt.plot(N, H.history[\"val_accuracy\"], label=\"val_acc\")\n",
    "plt.xlabel(\"Epoch #\")\n",
    "plt.legend()\n",
    "plt.show()"
   ]
  },
  {
   "cell_type": "markdown",
   "metadata": {},
   "source": [
    "<h3>7. Evaluate the Model</h3>"
   ]
  },
  {
   "cell_type": "code",
   "execution_count": 15,
   "metadata": {},
   "outputs": [
    {
     "name": "stdout",
     "output_type": "stream",
     "text": [
      "              precision    recall  f1-score   support\n",
      "\n",
      "    blimbing       1.00      0.80      0.89        10\n",
      "       jeruk       1.00      1.00      1.00         9\n",
      "     kemangi       0.85      1.00      0.92        11\n",
      "\n",
      "    accuracy                           0.93        30\n",
      "   macro avg       0.95      0.93      0.94        30\n",
      "weighted avg       0.94      0.93      0.93        30\n",
      "\n"
     ]
    }
   ],
   "source": [
    "# menghitung nilai akurasi model terhadap data test\n",
    "predictions = model.predict(x_test, batch_size=32)\n",
    "print(classification_report(y_test.argmax(axis=1), predictions.argmax(axis=1), target_names=label_list))"
   ]
  },
  {
   "cell_type": "code",
   "execution_count": 18,
   "metadata": {},
   "outputs": [],
   "source": [
    "# uji model menggunakan image lain\n",
    "queryPath = imagePaths+'007.jpg'\n",
    "query = cv2.imread(queryPath)\n",
    "output = query.copy()\n",
    "query = cv2.resize(query, (32, 32)).flatten()\n",
    "q = []\n",
    "q.append(query)\n",
    "q = np.array(q, dtype='float') / 255.0\n",
    "\n",
    "q_pred = model.predict(q)\n",
    "i = q_pred.argmax(axis=1)[0]\n",
    "label = lb.classes_[i]"
   ]
  },
  {
   "cell_type": "code",
   "execution_count": null,
   "metadata": {},
   "outputs": [],
   "source": [
    "text = \"{}: {:.2f}%\".format(label, q_pred[0][i] * 100)\n",
    "cv2.putText(output, text, (10, 30), cv2.FONT_HERSHEY_SIMPLEX, 0.7, (0, 0, 255), 2)\n",
    " \n",
    "# menampilkan output image\n",
    "cv2.imshow('Output', output)\n",
    "cv2.waitKey() # image tidak akan diclose,sebelum user menekan sembarang tombol\n",
    "cv2.destroyWindow('Output') # image akan diclose"
   ]
  },
  {
   "cell_type": "code",
   "execution_count": null,
   "metadata": {},
   "outputs": [],
   "source": []
  }
 ],
 "metadata": {
  "kernelspec": {
   "display_name": "Python 3 (ipykernel)",
   "language": "python",
   "name": "python3"
  },
  "language_info": {
   "codemirror_mode": {
    "name": "ipython",
    "version": 3
   },
   "file_extension": ".py",
   "mimetype": "text/x-python",
   "name": "python",
   "nbconvert_exporter": "python",
   "pygments_lexer": "ipython3",
   "version": "3.9.7"
  }
 },
 "nbformat": 4,
 "nbformat_minor": 4
}
