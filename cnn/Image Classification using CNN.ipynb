{
 "cells": [
  {
   "cell_type": "markdown",
   "metadata": {},
   "source": [
    "<h3>1. Import module yang dibutuhkan</h3>"
   ]
  },
  {
   "cell_type": "code",
   "execution_count": 1,
   "metadata": {},
   "outputs": [],
   "source": [
    "from sklearn.model_selection import train_test_split\n",
    "from sklearn.preprocessing import LabelEncoder\n",
    "from sklearn.metrics import classification_report\n",
    "from tensorflow.keras.models import Sequential\n",
    "from tensorflow.keras.layers import InputLayer, Flatten, Dense, Conv2D, MaxPool2D, Dropout\n",
    "from tensorflow.keras.optimizers import Adam\n",
    "import numpy as np\n",
    "import cv2\n",
    "import glob\n",
    "import matplotlib.pyplot as plt"
   ]
  },
  {
   "cell_type": "markdown",
   "metadata": {},
   "source": [
    "<h3>2. Load Dataset</h3>"
   ]
  },
  {
   "cell_type": "code",
   "execution_count": 2,
   "metadata": {},
   "outputs": [],
   "source": [
    "imagePaths = 'dataset\\\\daun\\\\'\n",
    "label_list = ['kemangi', 'blimbing']\n",
    "data = []\n",
    "labels = []"
   ]
  },
  {
   "cell_type": "code",
   "execution_count": 3,
   "metadata": {},
   "outputs": [],
   "source": [
    "for label in label_list:\n",
    "    for imagePath in glob.glob(imagePaths+label+'\\\\*.jpg'):\n",
    "        #print(imagePath)\n",
    "        image = cv2.imread(imagePath)\n",
    "        image = cv2.resize(image, (32, 32))\n",
    "        data.append(image)\n",
    "        labels.append(label)"
   ]
  },
  {
   "cell_type": "code",
   "execution_count": 4,
   "metadata": {},
   "outputs": [
    {
     "data": {
      "text/plain": [
       "(100, 32, 32, 3)"
      ]
     },
     "execution_count": 4,
     "metadata": {},
     "output_type": "execute_result"
    }
   ],
   "source": [
    "np.array(data).shape"
   ]
  },
  {
   "cell_type": "markdown",
   "metadata": {},
   "source": [
    "<h3>3. Data Preprocessing</h3>"
   ]
  },
  {
   "cell_type": "code",
   "execution_count": 5,
   "metadata": {},
   "outputs": [],
   "source": [
    "# ubah type data dari list menjadi array\n",
    "# ubah nilai dari tiap pixel menjadi range [0..1]\n",
    "data = np.array(data, dtype='float') / 255.0\n",
    "labels = np.array(labels)"
   ]
  },
  {
   "cell_type": "code",
   "execution_count": 6,
   "metadata": {},
   "outputs": [
    {
     "name": "stdout",
     "output_type": "stream",
     "text": [
      "['kemangi' 'kemangi' 'kemangi' 'kemangi' 'kemangi' 'kemangi' 'kemangi'\n",
      " 'kemangi' 'kemangi' 'kemangi' 'kemangi' 'kemangi' 'kemangi' 'kemangi'\n",
      " 'kemangi' 'kemangi' 'kemangi' 'kemangi' 'kemangi' 'kemangi' 'kemangi'\n",
      " 'kemangi' 'kemangi' 'kemangi' 'kemangi' 'kemangi' 'kemangi' 'kemangi'\n",
      " 'kemangi' 'kemangi' 'kemangi' 'kemangi' 'kemangi' 'kemangi' 'kemangi'\n",
      " 'kemangi' 'kemangi' 'kemangi' 'kemangi' 'kemangi' 'kemangi' 'kemangi'\n",
      " 'kemangi' 'kemangi' 'kemangi' 'kemangi' 'kemangi' 'kemangi' 'kemangi'\n",
      " 'kemangi' 'blimbing' 'blimbing' 'blimbing' 'blimbing' 'blimbing'\n",
      " 'blimbing' 'blimbing' 'blimbing' 'blimbing' 'blimbing' 'blimbing'\n",
      " 'blimbing' 'blimbing' 'blimbing' 'blimbing' 'blimbing' 'blimbing'\n",
      " 'blimbing' 'blimbing' 'blimbing' 'blimbing' 'blimbing' 'blimbing'\n",
      " 'blimbing' 'blimbing' 'blimbing' 'blimbing' 'blimbing' 'blimbing'\n",
      " 'blimbing' 'blimbing' 'blimbing' 'blimbing' 'blimbing' 'blimbing'\n",
      " 'blimbing' 'blimbing' 'blimbing' 'blimbing' 'blimbing' 'blimbing'\n",
      " 'blimbing' 'blimbing' 'blimbing' 'blimbing' 'blimbing' 'blimbing'\n",
      " 'blimbing' 'blimbing' 'blimbing']\n"
     ]
    }
   ],
   "source": [
    "print(labels)"
   ]
  },
  {
   "cell_type": "code",
   "execution_count": 7,
   "metadata": {},
   "outputs": [
    {
     "name": "stdout",
     "output_type": "stream",
     "text": [
      "[1 1 1 1 1 1 1 1 1 1 1 1 1 1 1 1 1 1 1 1 1 1 1 1 1 1 1 1 1 1 1 1 1 1 1 1 1\n",
      " 1 1 1 1 1 1 1 1 1 1 1 1 1 0 0 0 0 0 0 0 0 0 0 0 0 0 0 0 0 0 0 0 0 0 0 0 0\n",
      " 0 0 0 0 0 0 0 0 0 0 0 0 0 0 0 0 0 0 0 0 0 0 0 0 0 0]\n"
     ]
    }
   ],
   "source": [
    "# ubah nilai dari labels menjadi binary\n",
    "lb = LabelEncoder()\n",
    "labels = lb.fit_transform(labels)\n",
    "print(labels)"
   ]
  },
  {
   "cell_type": "markdown",
   "metadata": {},
   "source": [
    "<h3>4. Split Dataset</h3>"
   ]
  },
  {
   "cell_type": "code",
   "execution_count": 8,
   "metadata": {},
   "outputs": [],
   "source": [
    "x_train, x_test, y_train, y_test = train_test_split(data, labels, test_size=0.2, random_state=42)"
   ]
  },
  {
   "cell_type": "code",
   "execution_count": 9,
   "metadata": {},
   "outputs": [
    {
     "name": "stdout",
     "output_type": "stream",
     "text": [
      "Ukuran data train = (80, 32, 32, 3)\n",
      "Ukuran data test = (20, 32, 32, 3)\n"
     ]
    }
   ],
   "source": [
    "print('Ukuran data train =', x_train.shape)\n",
    "print('Ukuran data test =', x_test.shape)"
   ]
  },
  {
   "cell_type": "markdown",
   "metadata": {},
   "source": [
    "<h3>5. Build CNN Architecture</h3>"
   ]
  },
  {
   "cell_type": "code",
   "execution_count": 10,
   "metadata": {},
   "outputs": [],
   "source": [
    "model = Sequential()\n",
    "# Extracted Feature Layer\n",
    "model.add(InputLayer(input_shape=[32,32,3]))\n",
    "model.add(Conv2D(filters=32, kernel_size=2, strides=1, padding='same', activation='relu'))\n",
    "model.add(MaxPool2D(pool_size=2, padding='same'))\n",
    "model.add(Conv2D(filters=50, kernel_size=2, strides=1, padding='same', activation='relu'))\n",
    "model.add(MaxPool2D(pool_size=2, padding='same'))\n",
    "model.add(Dropout(0.25))\n",
    "model.add(Flatten())\n",
    "# Fully Connected Layer\n",
    "model.add(Dense(512, activation='relu'))\n",
    "model.add(Dropout(0.5))\n",
    "model.add(Dense(1, activation='sigmoid'))"
   ]
  },
  {
   "cell_type": "code",
   "execution_count": 11,
   "metadata": {},
   "outputs": [
    {
     "name": "stdout",
     "output_type": "stream",
     "text": [
      "Model: \"sequential\"\n",
      "_________________________________________________________________\n",
      "Layer (type)                 Output Shape              Param #   \n",
      "=================================================================\n",
      "conv2d (Conv2D)              (None, 32, 32, 32)        416       \n",
      "_________________________________________________________________\n",
      "max_pooling2d (MaxPooling2D) (None, 16, 16, 32)        0         \n",
      "_________________________________________________________________\n",
      "conv2d_1 (Conv2D)            (None, 16, 16, 50)        6450      \n",
      "_________________________________________________________________\n",
      "max_pooling2d_1 (MaxPooling2 (None, 8, 8, 50)          0         \n",
      "_________________________________________________________________\n",
      "dropout (Dropout)            (None, 8, 8, 50)          0         \n",
      "_________________________________________________________________\n",
      "flatten (Flatten)            (None, 3200)              0         \n",
      "_________________________________________________________________\n",
      "dense (Dense)                (None, 512)               1638912   \n",
      "_________________________________________________________________\n",
      "dropout_1 (Dropout)          (None, 512)               0         \n",
      "_________________________________________________________________\n",
      "dense_1 (Dense)              (None, 1)                 513       \n",
      "=================================================================\n",
      "Total params: 1,646,291\n",
      "Trainable params: 1,646,291\n",
      "Non-trainable params: 0\n",
      "_________________________________________________________________\n"
     ]
    }
   ],
   "source": [
    "model.summary()"
   ]
  },
  {
   "cell_type": "code",
   "execution_count": 12,
   "metadata": {},
   "outputs": [],
   "source": [
    "# tentukan hyperparameter\n",
    "lr = 0.001\n",
    "max_epochs = 100\n",
    "opt_funct = Adam(learning_rate=lr)"
   ]
  },
  {
   "cell_type": "code",
   "execution_count": 13,
   "metadata": {},
   "outputs": [],
   "source": [
    "# compile arsitektur yang telah dibuat\n",
    "model.compile(loss = 'binary_crossentropy', \n",
    "              optimizer = opt_funct, \n",
    "              metrics = ['accuracy'])"
   ]
  },
  {
   "cell_type": "markdown",
   "metadata": {},
   "source": [
    "<h3>6. Train Model</h3>"
   ]
  },
  {
   "cell_type": "code",
   "execution_count": 14,
   "metadata": {},
   "outputs": [
    {
     "name": "stdout",
     "output_type": "stream",
     "text": [
      "Epoch 1/100\n",
      "3/3 [==============================] - 4s 334ms/step - loss: 0.7210 - accuracy: 0.4625 - val_loss: 0.7616 - val_accuracy: 0.4000\n",
      "Epoch 2/100\n",
      "3/3 [==============================] - 0s 53ms/step - loss: 0.6916 - accuracy: 0.5250 - val_loss: 0.6795 - val_accuracy: 0.5000\n",
      "Epoch 3/100\n",
      "3/3 [==============================] - 0s 46ms/step - loss: 0.6543 - accuracy: 0.6125 - val_loss: 0.7052 - val_accuracy: 0.4000\n",
      "Epoch 4/100\n",
      "3/3 [==============================] - 0s 49ms/step - loss: 0.6341 - accuracy: 0.5875 - val_loss: 0.6248 - val_accuracy: 0.8500\n",
      "Epoch 5/100\n",
      "3/3 [==============================] - 0s 54ms/step - loss: 0.7080 - accuracy: 0.4750 - val_loss: 0.5865 - val_accuracy: 0.6000\n",
      "Epoch 6/100\n",
      "3/3 [==============================] - 0s 51ms/step - loss: 0.6255 - accuracy: 0.6250 - val_loss: 0.6094 - val_accuracy: 0.7500\n",
      "Epoch 7/100\n",
      "3/3 [==============================] - 0s 56ms/step - loss: 0.6417 - accuracy: 0.6250 - val_loss: 0.6515 - val_accuracy: 0.6000\n",
      "Epoch 8/100\n",
      "3/3 [==============================] - 0s 64ms/step - loss: 0.5994 - accuracy: 0.7250 - val_loss: 0.5609 - val_accuracy: 0.8000\n",
      "Epoch 9/100\n",
      "3/3 [==============================] - 0s 71ms/step - loss: 0.5632 - accuracy: 0.7750 - val_loss: 0.5324 - val_accuracy: 0.8500\n",
      "Epoch 10/100\n",
      "3/3 [==============================] - 0s 75ms/step - loss: 0.5300 - accuracy: 0.7875 - val_loss: 0.5412 - val_accuracy: 0.7000\n",
      "Epoch 11/100\n",
      "3/3 [==============================] - 0s 74ms/step - loss: 0.5049 - accuracy: 0.7750 - val_loss: 0.5467 - val_accuracy: 0.7500\n",
      "Epoch 12/100\n",
      "3/3 [==============================] - 0s 76ms/step - loss: 0.5147 - accuracy: 0.7750 - val_loss: 0.4700 - val_accuracy: 0.8000\n",
      "Epoch 13/100\n",
      "3/3 [==============================] - 0s 74ms/step - loss: 0.4685 - accuracy: 0.8000 - val_loss: 0.4506 - val_accuracy: 0.8000\n",
      "Epoch 14/100\n",
      "3/3 [==============================] - 0s 74ms/step - loss: 0.4243 - accuracy: 0.8250 - val_loss: 0.4863 - val_accuracy: 0.7500\n",
      "Epoch 15/100\n",
      "3/3 [==============================] - 0s 77ms/step - loss: 0.4230 - accuracy: 0.8375 - val_loss: 0.4174 - val_accuracy: 0.8500\n",
      "Epoch 16/100\n",
      "3/3 [==============================] - 0s 102ms/step - loss: 0.3630 - accuracy: 0.9000 - val_loss: 0.3933 - val_accuracy: 0.8000\n",
      "Epoch 17/100\n",
      "3/3 [==============================] - 0s 82ms/step - loss: 0.3683 - accuracy: 0.8625 - val_loss: 0.3864 - val_accuracy: 0.8500\n",
      "Epoch 18/100\n",
      "3/3 [==============================] - 0s 89ms/step - loss: 0.2921 - accuracy: 0.9375 - val_loss: 0.3642 - val_accuracy: 0.8000\n",
      "Epoch 19/100\n",
      "3/3 [==============================] - 0s 99ms/step - loss: 0.2964 - accuracy: 0.9250 - val_loss: 0.3681 - val_accuracy: 0.8500\n",
      "Epoch 20/100\n",
      "3/3 [==============================] - 0s 90ms/step - loss: 0.2486 - accuracy: 0.9125 - val_loss: 0.3416 - val_accuracy: 0.8500\n",
      "Epoch 21/100\n",
      "3/3 [==============================] - 0s 72ms/step - loss: 0.2666 - accuracy: 0.9125 - val_loss: 0.3314 - val_accuracy: 0.8500\n",
      "Epoch 22/100\n",
      "3/3 [==============================] - 0s 83ms/step - loss: 0.2546 - accuracy: 0.9125 - val_loss: 0.3267 - val_accuracy: 0.8500\n",
      "Epoch 23/100\n",
      "3/3 [==============================] - 0s 75ms/step - loss: 0.2182 - accuracy: 0.9500 - val_loss: 0.3055 - val_accuracy: 0.8500\n",
      "Epoch 24/100\n",
      "3/3 [==============================] - 0s 70ms/step - loss: 0.2477 - accuracy: 0.9250 - val_loss: 0.3596 - val_accuracy: 0.8000\n",
      "Epoch 25/100\n",
      "3/3 [==============================] - 0s 76ms/step - loss: 0.2002 - accuracy: 0.9500 - val_loss: 0.3127 - val_accuracy: 0.8000\n",
      "Epoch 26/100\n",
      "3/3 [==============================] - 0s 78ms/step - loss: 0.2168 - accuracy: 0.9125 - val_loss: 0.2884 - val_accuracy: 0.8500\n",
      "Epoch 27/100\n",
      "3/3 [==============================] - 0s 67ms/step - loss: 0.1530 - accuracy: 0.9750 - val_loss: 0.3739 - val_accuracy: 0.8000\n",
      "Epoch 28/100\n",
      "3/3 [==============================] - 0s 76ms/step - loss: 0.1747 - accuracy: 0.9250 - val_loss: 0.2915 - val_accuracy: 0.8500\n",
      "Epoch 29/100\n",
      "3/3 [==============================] - 0s 102ms/step - loss: 0.1562 - accuracy: 0.9750 - val_loss: 0.3182 - val_accuracy: 0.8000\n",
      "Epoch 30/100\n",
      "3/3 [==============================] - 0s 100ms/step - loss: 0.1278 - accuracy: 0.9750 - val_loss: 0.3174 - val_accuracy: 0.8000\n",
      "Epoch 31/100\n",
      "3/3 [==============================] - 0s 80ms/step - loss: 0.1425 - accuracy: 0.9625 - val_loss: 0.2749 - val_accuracy: 0.8500\n",
      "Epoch 32/100\n",
      "3/3 [==============================] - 0s 75ms/step - loss: 0.1062 - accuracy: 0.9875 - val_loss: 0.3116 - val_accuracy: 0.8000\n",
      "Epoch 33/100\n",
      "3/3 [==============================] - 0s 78ms/step - loss: 0.1157 - accuracy: 0.9625 - val_loss: 0.2997 - val_accuracy: 0.8500\n",
      "Epoch 34/100\n",
      "3/3 [==============================] - 0s 76ms/step - loss: 0.1431 - accuracy: 0.9250 - val_loss: 0.2756 - val_accuracy: 0.8500\n",
      "Epoch 35/100\n",
      "3/3 [==============================] - 0s 102ms/step - loss: 0.1048 - accuracy: 0.9750 - val_loss: 0.4386 - val_accuracy: 0.8000\n",
      "Epoch 36/100\n",
      "3/3 [==============================] - 0s 89ms/step - loss: 0.1377 - accuracy: 0.9500 - val_loss: 0.2911 - val_accuracy: 0.8500\n",
      "Epoch 37/100\n",
      "3/3 [==============================] - 0s 77ms/step - loss: 0.1200 - accuracy: 0.9750 - val_loss: 0.2723 - val_accuracy: 0.9000\n",
      "Epoch 38/100\n",
      "3/3 [==============================] - 0s 74ms/step - loss: 0.1344 - accuracy: 0.9625 - val_loss: 0.3164 - val_accuracy: 0.8000\n",
      "Epoch 39/100\n",
      "3/3 [==============================] - 0s 90ms/step - loss: 0.1176 - accuracy: 0.9500 - val_loss: 0.2933 - val_accuracy: 0.8500\n",
      "Epoch 40/100\n",
      "3/3 [==============================] - 0s 108ms/step - loss: 0.0856 - accuracy: 0.9750 - val_loss: 0.2978 - val_accuracy: 0.8500\n",
      "Epoch 41/100\n",
      "3/3 [==============================] - 0s 96ms/step - loss: 0.0848 - accuracy: 0.9750 - val_loss: 0.2950 - val_accuracy: 0.8500\n",
      "Epoch 42/100\n",
      "3/3 [==============================] - 0s 78ms/step - loss: 0.0704 - accuracy: 1.0000 - val_loss: 0.2727 - val_accuracy: 0.9000\n",
      "Epoch 43/100\n",
      "3/3 [==============================] - 0s 81ms/step - loss: 0.0705 - accuracy: 0.9750 - val_loss: 0.2810 - val_accuracy: 0.9000\n",
      "Epoch 44/100\n",
      "3/3 [==============================] - 0s 88ms/step - loss: 0.0795 - accuracy: 0.9750 - val_loss: 0.2926 - val_accuracy: 0.8500\n",
      "Epoch 45/100\n",
      "3/3 [==============================] - 0s 78ms/step - loss: 0.0622 - accuracy: 1.0000 - val_loss: 0.3070 - val_accuracy: 0.8000\n",
      "Epoch 46/100\n",
      "3/3 [==============================] - 0s 80ms/step - loss: 0.0568 - accuracy: 0.9875 - val_loss: 0.3230 - val_accuracy: 0.8000\n",
      "Epoch 47/100\n",
      "3/3 [==============================] - 0s 91ms/step - loss: 0.0752 - accuracy: 0.9875 - val_loss: 0.2884 - val_accuracy: 0.9000\n",
      "Epoch 48/100\n",
      "3/3 [==============================] - 0s 120ms/step - loss: 0.0595 - accuracy: 1.0000 - val_loss: 0.2827 - val_accuracy: 0.9000\n",
      "Epoch 49/100\n",
      "3/3 [==============================] - 0s 92ms/step - loss: 0.0465 - accuracy: 1.0000 - val_loss: 0.3965 - val_accuracy: 0.8000\n",
      "Epoch 50/100\n",
      "3/3 [==============================] - 0s 99ms/step - loss: 0.0904 - accuracy: 0.9625 - val_loss: 0.3072 - val_accuracy: 0.8500\n",
      "Epoch 51/100\n",
      "3/3 [==============================] - 0s 81ms/step - loss: 0.0421 - accuracy: 1.0000 - val_loss: 0.2754 - val_accuracy: 0.9500\n",
      "Epoch 52/100\n",
      "3/3 [==============================] - 0s 102ms/step - loss: 0.0798 - accuracy: 0.9750 - val_loss: 0.2724 - val_accuracy: 0.8500\n",
      "Epoch 53/100\n",
      "3/3 [==============================] - 0s 91ms/step - loss: 0.0664 - accuracy: 0.9750 - val_loss: 0.3762 - val_accuracy: 0.8000\n",
      "Epoch 54/100\n",
      "3/3 [==============================] - 0s 80ms/step - loss: 0.0651 - accuracy: 0.9750 - val_loss: 0.2838 - val_accuracy: 0.8500\n",
      "Epoch 55/100\n",
      "3/3 [==============================] - 0s 81ms/step - loss: 0.0508 - accuracy: 1.0000 - val_loss: 0.2617 - val_accuracy: 0.9000\n",
      "Epoch 56/100\n",
      "3/3 [==============================] - 0s 96ms/step - loss: 0.0688 - accuracy: 0.9750 - val_loss: 0.2683 - val_accuracy: 0.9000\n",
      "Epoch 57/100\n",
      "3/3 [==============================] - 0s 97ms/step - loss: 0.0509 - accuracy: 0.9875 - val_loss: 0.3279 - val_accuracy: 0.8000\n",
      "Epoch 58/100\n",
      "3/3 [==============================] - 0s 103ms/step - loss: 0.0547 - accuracy: 1.0000 - val_loss: 0.3207 - val_accuracy: 0.8000\n",
      "Epoch 59/100\n"
     ]
    },
    {
     "name": "stdout",
     "output_type": "stream",
     "text": [
      "3/3 [==============================] - 0s 84ms/step - loss: 0.0312 - accuracy: 1.0000 - val_loss: 0.2955 - val_accuracy: 0.9000\n",
      "Epoch 60/100\n",
      "3/3 [==============================] - 0s 80ms/step - loss: 0.0492 - accuracy: 1.0000 - val_loss: 0.2831 - val_accuracy: 0.9000\n",
      "Epoch 61/100\n",
      "3/3 [==============================] - 0s 73ms/step - loss: 0.0315 - accuracy: 0.9875 - val_loss: 0.2841 - val_accuracy: 0.9000\n",
      "Epoch 62/100\n",
      "3/3 [==============================] - 0s 67ms/step - loss: 0.0358 - accuracy: 0.9875 - val_loss: 0.3129 - val_accuracy: 0.8500\n",
      "Epoch 63/100\n",
      "3/3 [==============================] - 0s 67ms/step - loss: 0.0275 - accuracy: 0.9875 - val_loss: 0.3002 - val_accuracy: 0.8500\n",
      "Epoch 64/100\n",
      "3/3 [==============================] - 0s 70ms/step - loss: 0.0383 - accuracy: 0.9875 - val_loss: 0.2918 - val_accuracy: 0.9500\n",
      "Epoch 65/100\n",
      "3/3 [==============================] - 0s 76ms/step - loss: 0.0239 - accuracy: 1.0000 - val_loss: 0.2913 - val_accuracy: 0.9500\n",
      "Epoch 66/100\n",
      "3/3 [==============================] - 0s 70ms/step - loss: 0.0212 - accuracy: 1.0000 - val_loss: 0.2965 - val_accuracy: 0.9500\n",
      "Epoch 67/100\n",
      "3/3 [==============================] - 0s 96ms/step - loss: 0.0164 - accuracy: 1.0000 - val_loss: 0.3173 - val_accuracy: 0.9000\n",
      "Epoch 68/100\n",
      "3/3 [==============================] - 0s 98ms/step - loss: 0.0368 - accuracy: 0.9875 - val_loss: 0.3555 - val_accuracy: 0.8000\n",
      "Epoch 69/100\n",
      "3/3 [==============================] - 0s 102ms/step - loss: 0.0363 - accuracy: 0.9875 - val_loss: 0.2943 - val_accuracy: 0.9500\n",
      "Epoch 70/100\n",
      "3/3 [==============================] - 0s 134ms/step - loss: 0.0355 - accuracy: 0.9875 - val_loss: 0.2924 - val_accuracy: 0.9500\n",
      "Epoch 71/100\n",
      "3/3 [==============================] - 0s 104ms/step - loss: 0.0216 - accuracy: 1.0000 - val_loss: 0.2935 - val_accuracy: 0.9000\n",
      "Epoch 72/100\n",
      "3/3 [==============================] - 0s 78ms/step - loss: 0.0452 - accuracy: 0.9875 - val_loss: 0.2918 - val_accuracy: 0.9500\n",
      "Epoch 73/100\n",
      "3/3 [==============================] - 0s 121ms/step - loss: 0.0313 - accuracy: 1.0000 - val_loss: 0.3044 - val_accuracy: 0.9000\n",
      "Epoch 74/100\n",
      "3/3 [==============================] - 0s 86ms/step - loss: 0.0335 - accuracy: 1.0000 - val_loss: 0.3274 - val_accuracy: 0.8500\n",
      "Epoch 75/100\n",
      "3/3 [==============================] - 0s 83ms/step - loss: 0.0299 - accuracy: 1.0000 - val_loss: 0.3075 - val_accuracy: 0.8500\n",
      "Epoch 76/100\n",
      "3/3 [==============================] - 0s 74ms/step - loss: 0.0170 - accuracy: 1.0000 - val_loss: 0.2792 - val_accuracy: 0.9500\n",
      "Epoch 77/100\n",
      "3/3 [==============================] - 0s 91ms/step - loss: 0.0240 - accuracy: 1.0000 - val_loss: 0.2829 - val_accuracy: 0.9500\n",
      "Epoch 78/100\n",
      "3/3 [==============================] - 0s 94ms/step - loss: 0.0289 - accuracy: 1.0000 - val_loss: 0.2775 - val_accuracy: 0.9500\n",
      "Epoch 79/100\n",
      "3/3 [==============================] - 0s 83ms/step - loss: 0.0230 - accuracy: 1.0000 - val_loss: 0.2960 - val_accuracy: 0.9000\n",
      "Epoch 80/100\n",
      "3/3 [==============================] - 0s 82ms/step - loss: 0.0134 - accuracy: 1.0000 - val_loss: 0.3137 - val_accuracy: 0.8500\n",
      "Epoch 81/100\n",
      "3/3 [==============================] - 0s 78ms/step - loss: 0.0143 - accuracy: 1.0000 - val_loss: 0.3045 - val_accuracy: 0.9000\n",
      "Epoch 82/100\n",
      "3/3 [==============================] - 0s 110ms/step - loss: 0.0078 - accuracy: 1.0000 - val_loss: 0.3080 - val_accuracy: 0.9500\n",
      "Epoch 83/100\n",
      "3/3 [==============================] - 0s 89ms/step - loss: 0.0069 - accuracy: 1.0000 - val_loss: 0.3172 - val_accuracy: 0.9000\n",
      "Epoch 84/100\n",
      "3/3 [==============================] - 0s 81ms/step - loss: 0.0096 - accuracy: 1.0000 - val_loss: 0.3207 - val_accuracy: 0.9000\n",
      "Epoch 85/100\n",
      "3/3 [==============================] - 0s 83ms/step - loss: 0.0104 - accuracy: 1.0000 - val_loss: 0.3250 - val_accuracy: 0.9000\n",
      "Epoch 86/100\n",
      "3/3 [==============================] - 0s 79ms/step - loss: 0.0082 - accuracy: 1.0000 - val_loss: 0.3268 - val_accuracy: 0.9000\n",
      "Epoch 87/100\n",
      "3/3 [==============================] - 0s 107ms/step - loss: 0.0076 - accuracy: 1.0000 - val_loss: 0.3299 - val_accuracy: 0.9000\n",
      "Epoch 88/100\n",
      "3/3 [==============================] - 0s 93ms/step - loss: 0.0073 - accuracy: 1.0000 - val_loss: 0.3409 - val_accuracy: 0.8500\n",
      "Epoch 89/100\n",
      "3/3 [==============================] - 0s 78ms/step - loss: 0.0067 - accuracy: 1.0000 - val_loss: 0.3407 - val_accuracy: 0.8500\n",
      "Epoch 90/100\n",
      "3/3 [==============================] - 0s 78ms/step - loss: 0.0108 - accuracy: 1.0000 - val_loss: 0.3309 - val_accuracy: 0.9500\n",
      "Epoch 91/100\n",
      "3/3 [==============================] - 0s 81ms/step - loss: 0.0066 - accuracy: 1.0000 - val_loss: 0.3339 - val_accuracy: 0.9500\n",
      "Epoch 92/100\n",
      "3/3 [==============================] - 0s 115ms/step - loss: 0.0151 - accuracy: 1.0000 - val_loss: 0.3341 - val_accuracy: 0.9000\n",
      "Epoch 93/100\n",
      "3/3 [==============================] - 0s 83ms/step - loss: 0.0044 - accuracy: 1.0000 - val_loss: 0.3343 - val_accuracy: 0.9000\n",
      "Epoch 94/100\n",
      "3/3 [==============================] - 0s 112ms/step - loss: 0.0104 - accuracy: 1.0000 - val_loss: 0.3317 - val_accuracy: 0.9500\n",
      "Epoch 95/100\n",
      "3/3 [==============================] - 0s 86ms/step - loss: 0.0188 - accuracy: 1.0000 - val_loss: 0.3329 - val_accuracy: 0.9500\n",
      "Epoch 96/100\n",
      "3/3 [==============================] - 0s 78ms/step - loss: 0.0188 - accuracy: 0.9875 - val_loss: 0.3332 - val_accuracy: 0.9000\n",
      "Epoch 97/100\n",
      "3/3 [==============================] - 0s 78ms/step - loss: 0.0093 - accuracy: 1.0000 - val_loss: 0.3345 - val_accuracy: 0.8500\n",
      "Epoch 98/100\n",
      "3/3 [==============================] - 0s 77ms/step - loss: 0.0048 - accuracy: 1.0000 - val_loss: 0.3241 - val_accuracy: 0.9000\n",
      "Epoch 99/100\n",
      "3/3 [==============================] - 0s 76ms/step - loss: 0.0068 - accuracy: 1.0000 - val_loss: 0.3188 - val_accuracy: 0.9500\n",
      "Epoch 100/100\n",
      "3/3 [==============================] - 0s 74ms/step - loss: 0.0051 - accuracy: 1.0000 - val_loss: 0.3230 - val_accuracy: 0.9500\n"
     ]
    }
   ],
   "source": [
    "H = model.fit(x_train, y_train, validation_data=(x_test, y_test), \n",
    "          epochs=max_epochs, batch_size=32)"
   ]
  },
  {
   "cell_type": "code",
   "execution_count": 15,
   "metadata": {},
   "outputs": [
    {
     "data": {
      "image/png": "[encoded data removed]",
      "text/plain": [
       "<Figure size 432x288 with 1 Axes>"
      ]
     },
     "metadata": {},
     "output_type": "display_data"
    }
   ],
   "source": [
    "N = np.arange(0, max_epochs)\n",
    "plt.style.use(\"ggplot\")\n",
    "plt.figure()\n",
    "plt.plot(N, H.history[\"loss\"], label=\"train_loss\")\n",
    "plt.plot(N, H.history[\"val_loss\"], label=\"val_loss\")\n",
    "#plt.plot(N, H.history[\"accuracy\"], label=\"train_acc\")\n",
    "#plt.plot(N, H.history[\"val_accuracy\"], label=\"val_acc\")\n",
    "plt.xlabel(\"Epoch #\")\n",
    "plt.legend()\n",
    "plt.show()"
   ]
  },
  {
   "cell_type": "markdown",
   "metadata": {},
   "source": [
    "<h3>7. Evaluate the Model</h3>"
   ]
  },
  {
   "cell_type": "code",
   "execution_count": 16,
   "metadata": {},
   "outputs": [
    {
     "name": "stdout",
     "output_type": "stream",
     "text": [
      "              precision    recall  f1-score   support\n",
      "\n",
      "     kemangi       1.00      0.88      0.93         8\n",
      "    blimbing       0.92      1.00      0.96        12\n",
      "\n",
      "    accuracy                           0.95        20\n",
      "   macro avg       0.96      0.94      0.95        20\n",
      "weighted avg       0.95      0.95      0.95        20\n",
      "\n"
     ]
    }
   ],
   "source": [
    "# menghitung nilai akurasi model terhadap data test\n",
    "predictions = model.predict(x_test, batch_size=32)\n",
    "target = (predictions > 0.5).astype(np.int32)\n",
    "print(classification_report(y_test, target, target_names=label_list))"
   ]
  },
  {
   "cell_type": "code",
   "execution_count": 17,
   "metadata": {},
   "outputs": [
    {
     "name": "stdout",
     "output_type": "stream",
     "text": [
      "[[0.00031218]]\n"
     ]
    }
   ],
   "source": [
    "# uji model menggunakan image lain\n",
    "queryPath = imagePaths+'007.jpg'\n",
    "query = cv2.imread(queryPath)\n",
    "output = query.copy()\n",
    "query = cv2.resize(query, (32, 32))\n",
    "q = []\n",
    "q.append(query)\n",
    "q = np.array(q, dtype='float') / 255.0\n",
    "\n",
    "q_pred = model.predict(q)\n",
    "print(q_pred)"
   ]
  },
  {
   "cell_type": "code",
   "execution_count": 18,
   "metadata": {},
   "outputs": [
    {
     "ename": "error",
     "evalue": "OpenCV(4.5.4-dev) D:\\a\\opencv-python\\opencv-python\\opencv\\modules\\highgui\\src\\window_w32.cpp:1261: error: (-27:Null pointer) NULL window: 'Output' in function 'cvDestroyWindow'\n",
     "output_type": "error",
     "traceback": [
      "\u001b[1;31m---------------------------------------------------------------------------\u001b[0m",
      "\u001b[1;31merror\u001b[0m                                     Traceback (most recent call last)",
      "\u001b[1;32m~\\AppData\\Local\\Temp/ipykernel_8180/2898308494.py\u001b[0m in \u001b[0;36m<module>\u001b[1;34m\u001b[0m\n\u001b[0;32m      9\u001b[0m \u001b[0mcv2\u001b[0m\u001b[1;33m.\u001b[0m\u001b[0mimshow\u001b[0m\u001b[1;33m(\u001b[0m\u001b[1;34m'Output'\u001b[0m\u001b[1;33m,\u001b[0m \u001b[0moutput\u001b[0m\u001b[1;33m)\u001b[0m\u001b[1;33m\u001b[0m\u001b[1;33m\u001b[0m\u001b[0m\n\u001b[0;32m     10\u001b[0m \u001b[0mcv2\u001b[0m\u001b[1;33m.\u001b[0m\u001b[0mwaitKey\u001b[0m\u001b[1;33m(\u001b[0m\u001b[1;33m)\u001b[0m \u001b[1;31m# image tidak akan diclose,sebelum user menekan sembarang tombol\u001b[0m\u001b[1;33m\u001b[0m\u001b[1;33m\u001b[0m\u001b[0m\n\u001b[1;32m---> 11\u001b[1;33m \u001b[0mcv2\u001b[0m\u001b[1;33m.\u001b[0m\u001b[0mdestroyWindow\u001b[0m\u001b[1;33m(\u001b[0m\u001b[1;34m'Output'\u001b[0m\u001b[1;33m)\u001b[0m \u001b[1;31m# image akan diclose\u001b[0m\u001b[1;33m\u001b[0m\u001b[1;33m\u001b[0m\u001b[0m\n\u001b[0m",
      "\u001b[1;31merror\u001b[0m: OpenCV(4.5.4-dev) D:\\a\\opencv-python\\opencv-python\\opencv\\modules\\highgui\\src\\window_w32.cpp:1261: error: (-27:Null pointer) NULL window: 'Output' in function 'cvDestroyWindow'\n"
     ]
    }
   ],
   "source": [
    "if q_pred<=0.5 :\n",
    "    target = \"Blimbing\"\n",
    "else :\n",
    "    target = \"Kemangi\"\n",
    "text = \"{}\".format(target)\n",
    "cv2.putText(output, text, (10, 30), cv2.FONT_HERSHEY_SIMPLEX, 0.7, (0, 0, 255), 2)\n",
    " \n",
    "# menampilkan output image\n",
    "cv2.imshow('Output', output)\n",
    "cv2.waitKey() # image tidak akan diclose,sebelum user menekan sembarang tombol\n",
    "cv2.destroyWindow('Output') # image akan diclose"
   ]
  },
  {
   "cell_type": "code",
   "execution_count": null,
   "metadata": {},
   "outputs": [],
   "source": [
    "model.save('kemangi_blimbing_model_class.h5')"
   ]
  },
  {
   "cell_type": "code",
   "execution_count": null,
   "metadata": {},
   "outputs": [],
   "source": []
  }
 ],
 "metadata": {
  "kernelspec": {
   "display_name": "Python 3 (ipykernel)",
   "language": "python",
   "name": "python3"
  },
  "language_info": {
   "codemirror_mode": {
    "name": "ipython",
    "version": 3
   },
   "file_extension": ".py",
   "mimetype": "text/x-python",
   "name": "python",
   "nbconvert_exporter": "python",
   "pygments_lexer": "ipython3",
   "version": "3.9.7"
  }
 },
 "nbformat": 4,
 "nbformat_minor": 4
}
