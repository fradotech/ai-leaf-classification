{
 "cells": [
  {
   "cell_type": "markdown",
   "metadata": {},
   "source": [
    "<h3>1. Import module yang dibutuhkan</h3>"
   ]
  },
  {
   "cell_type": "code",
   "execution_count": 1,
   "metadata": {},
   "outputs": [],
   "source": [
    "from sklearn.model_selection import train_test_split\n",
    "from sklearn.preprocessing import LabelEncoder\n",
    "from sklearn.metrics import classification_report\n",
    "from tensorflow.keras.models import Sequential\n",
    "from tensorflow.keras.layers import InputLayer, Flatten, Dense, Conv2D, MaxPool2D, Dropout\n",
    "from tensorflow.keras.optimizers import Adam\n",
    "import numpy as np\n",
    "import cv2\n",
    "import glob\n",
    "import matplotlib.pyplot as plt"
   ]
  },
  {
   "cell_type": "markdown",
   "metadata": {},
   "source": [
    "<h3>2. Load Dataset</h3>"
   ]
  },
  {
   "cell_type": "code",
   "execution_count": 2,
   "metadata": {},
   "outputs": [],
   "source": [
    "imagePaths = 'dataset\\\\daun\\\\'\n",
    "label_list = ['kemangi', 'blimbing']\n",
    "data = []\n",
    "labels = []"
   ]
  },
  {
   "cell_type": "code",
   "execution_count": 3,
   "metadata": {},
   "outputs": [],
   "source": [
    "for label in label_list:\n",
    "    for imagePath in glob.glob(imagePaths+label+'\\\\*.jpg'):\n",
    "        #print(imagePath)\n",
    "        image = cv2.imread(imagePath)\n",
    "        image = cv2.resize(image, (32, 32))\n",
    "        data.append(image)\n",
    "        labels.append(label)"
   ]
  },
  {
   "cell_type": "code",
   "execution_count": 4,
   "metadata": {},
   "outputs": [
    {
     "data": {
      "text/plain": [
       "(100, 32, 32, 3)"
      ]
     },
     "execution_count": 4,
     "metadata": {},
     "output_type": "execute_result"
    }
   ],
   "source": [
    "np.array(data).shape"
   ]
  },
  {
   "cell_type": "markdown",
   "metadata": {},
   "source": [
    "<h3>3. Data Preprocessing</h3>"
   ]
  },
  {
   "cell_type": "code",
   "execution_count": 5,
   "metadata": {},
   "outputs": [],
   "source": [
    "# ubah type data dari list menjadi array\n",
    "# ubah nilai dari tiap pixel menjadi range [0..1]\n",
    "data = np.array(data, dtype='float') / 255.0\n",
    "labels = np.array(labels)"
   ]
  },
  {
   "cell_type": "code",
   "execution_count": 6,
   "metadata": {},
   "outputs": [
    {
     "name": "stdout",
     "output_type": "stream",
     "text": [
      "['kemangi' 'kemangi' 'kemangi' 'kemangi' 'kemangi' 'kemangi' 'kemangi'\n",
      " 'kemangi' 'kemangi' 'kemangi' 'kemangi' 'kemangi' 'kemangi' 'kemangi'\n",
      " 'kemangi' 'kemangi' 'kemangi' 'kemangi' 'kemangi' 'kemangi' 'kemangi'\n",
      " 'kemangi' 'kemangi' 'kemangi' 'kemangi' 'kemangi' 'kemangi' 'kemangi'\n",
      " 'kemangi' 'kemangi' 'kemangi' 'kemangi' 'kemangi' 'kemangi' 'kemangi'\n",
      " 'kemangi' 'kemangi' 'kemangi' 'kemangi' 'kemangi' 'kemangi' 'kemangi'\n",
      " 'kemangi' 'kemangi' 'kemangi' 'kemangi' 'kemangi' 'kemangi' 'kemangi'\n",
      " 'kemangi' 'blimbing' 'blimbing' 'blimbing' 'blimbing' 'blimbing'\n",
      " 'blimbing' 'blimbing' 'blimbing' 'blimbing' 'blimbing' 'blimbing'\n",
      " 'blimbing' 'blimbing' 'blimbing' 'blimbing' 'blimbing' 'blimbing'\n",
      " 'blimbing' 'blimbing' 'blimbing' 'blimbing' 'blimbing' 'blimbing'\n",
      " 'blimbing' 'blimbing' 'blimbing' 'blimbing' 'blimbing' 'blimbing'\n",
      " 'blimbing' 'blimbing' 'blimbing' 'blimbing' 'blimbing' 'blimbing'\n",
      " 'blimbing' 'blimbing' 'blimbing' 'blimbing' 'blimbing' 'blimbing'\n",
      " 'blimbing' 'blimbing' 'blimbing' 'blimbing' 'blimbing' 'blimbing'\n",
      " 'blimbing' 'blimbing' 'blimbing']\n"
     ]
    }
   ],
   "source": [
    "print(labels)"
   ]
  },
  {
   "cell_type": "code",
   "execution_count": 7,
   "metadata": {},
   "outputs": [
    {
     "name": "stdout",
     "output_type": "stream",
     "text": [
      "[1 1 1 1 1 1 1 1 1 1 1 1 1 1 1 1 1 1 1 1 1 1 1 1 1 1 1 1 1 1 1 1 1 1 1 1 1\n",
      " 1 1 1 1 1 1 1 1 1 1 1 1 1 0 0 0 0 0 0 0 0 0 0 0 0 0 0 0 0 0 0 0 0 0 0 0 0\n",
      " 0 0 0 0 0 0 0 0 0 0 0 0 0 0 0 0 0 0 0 0 0 0 0 0 0 0]\n"
     ]
    }
   ],
   "source": [
    "# ubah nilai dari labels menjadi binary\n",
    "lb = LabelEncoder()\n",
    "labels = lb.fit_transform(labels)\n",
    "print(labels)"
   ]
  },
  {
   "cell_type": "markdown",
   "metadata": {},
   "source": [
    "<h3>4. Split Dataset</h3>"
   ]
  },
  {
   "cell_type": "code",
   "execution_count": 8,
   "metadata": {},
   "outputs": [],
   "source": [
    "x_train, x_test, y_train, y_test = train_test_split(data, labels, test_size=0.2, random_state=42)"
   ]
  },
  {
   "cell_type": "code",
   "execution_count": 9,
   "metadata": {},
   "outputs": [
    {
     "name": "stdout",
     "output_type": "stream",
     "text": [
      "Ukuran data train = (80, 32, 32, 3)\n",
      "Ukuran data test = (20, 32, 32, 3)\n"
     ]
    }
   ],
   "source": [
    "print('Ukuran data train =', x_train.shape)\n",
    "print('Ukuran data test =', x_test.shape)"
   ]
  },
  {
   "cell_type": "markdown",
   "metadata": {},
   "source": [
    "<h3>5. Build CNN Architecture</h3>"
   ]
  },
  {
   "cell_type": "code",
   "execution_count": 10,
   "metadata": {},
   "outputs": [],
   "source": [
    "model = Sequential()\n",
    "# Extracted Feature Layer\n",
    "model.add(InputLayer(input_shape=[32,32,3]))\n",
    "model.add(Conv2D(filters=32, kernel_size=2, strides=1, padding='same', activation='relu'))\n",
    "model.add(MaxPool2D(pool_size=2, padding='same'))\n",
    "model.add(Conv2D(filters=50, kernel_size=2, strides=1, padding='same', activation='relu'))\n",
    "model.add(MaxPool2D(pool_size=2, padding='same'))\n",
    "model.add(Dropout(0.25))\n",
    "model.add(Flatten())\n",
    "# Fully Connected Layer\n",
    "model.add(Dense(512, activation='relu'))\n",
    "model.add(Dropout(0.5))\n",
    "model.add(Dense(1, activation='sigmoid'))"
   ]
  },
  {
   "cell_type": "code",
   "execution_count": 11,
   "metadata": {},
   "outputs": [
    {
     "name": "stdout",
     "output_type": "stream",
     "text": [
      "Model: \"sequential\"\n",
      "_________________________________________________________________\n",
      "Layer (type)                 Output Shape              Param #   \n",
      "=================================================================\n",
      "conv2d (Conv2D)              (None, 32, 32, 32)        416       \n",
      "_________________________________________________________________\n",
      "max_pooling2d (MaxPooling2D) (None, 16, 16, 32)        0         \n",
      "_________________________________________________________________\n",
      "conv2d_1 (Conv2D)            (None, 16, 16, 50)        6450      \n",
      "_________________________________________________________________\n",
      "max_pooling2d_1 (MaxPooling2 (None, 8, 8, 50)          0         \n",
      "_________________________________________________________________\n",
      "dropout (Dropout)            (None, 8, 8, 50)          0         \n",
      "_________________________________________________________________\n",
      "flatten (Flatten)            (None, 3200)              0         \n",
      "_________________________________________________________________\n",
      "dense (Dense)                (None, 512)               1638912   \n",
      "_________________________________________________________________\n",
      "dropout_1 (Dropout)          (None, 512)               0         \n",
      "_________________________________________________________________\n",
      "dense_1 (Dense)              (None, 1)                 513       \n",
      "=================================================================\n",
      "Total params: 1,646,291\n",
      "Trainable params: 1,646,291\n",
      "Non-trainable params: 0\n",
      "_________________________________________________________________\n"
     ]
    }
   ],
   "source": [
    "model.summary()"
   ]
  },
  {
   "cell_type": "code",
   "execution_count": 11,
   "metadata": {},
   "outputs": [],
   "source": [
    "# tentukan hyperparameter\n",
    "lr = 0.001\n",
    "max_epochs = 100\n",
    "opt_funct = Adam(learning_rate=lr)"
   ]
  },
  {
   "cell_type": "code",
   "execution_count": 12,
   "metadata": {},
   "outputs": [],
   "source": [
    "# compile arsitektur yang telah dibuat\n",
    "model.compile(loss = 'binary_crossentropy', \n",
    "              optimizer = opt_funct, \n",
    "              metrics = ['accuracy'])"
   ]
  },
  {
   "cell_type": "markdown",
   "metadata": {},
   "source": [
    "<h3>6. Train Model</h3>"
   ]
  },
  {
   "cell_type": "code",
   "execution_count": 13,
   "metadata": {},
   "outputs": [
    {
     "name": "stdout",
     "output_type": "stream",
     "text": [
      "Epoch 1/100\n",
      "3/3 [==============================] - 1s 162ms/step - loss: 0.7182 - accuracy: 0.4500 - val_loss: 0.7083 - val_accuracy: 0.4000\n",
      "Epoch 2/100\n",
      "3/3 [==============================] - 0s 44ms/step - loss: 0.6879 - accuracy: 0.5500 - val_loss: 0.6802 - val_accuracy: 0.4500\n",
      "Epoch 3/100\n",
      "3/3 [==============================] - 0s 48ms/step - loss: 0.6497 - accuracy: 0.6500 - val_loss: 0.6159 - val_accuracy: 0.6000\n",
      "Epoch 4/100\n",
      "3/3 [==============================] - 0s 44ms/step - loss: 0.6379 - accuracy: 0.6750 - val_loss: 0.6207 - val_accuracy: 0.7500\n",
      "Epoch 5/100\n",
      "3/3 [==============================] - 0s 44ms/step - loss: 0.6015 - accuracy: 0.7375 - val_loss: 0.6305 - val_accuracy: 0.6000\n",
      "Epoch 6/100\n",
      "3/3 [==============================] - 0s 44ms/step - loss: 0.5949 - accuracy: 0.7125 - val_loss: 0.5337 - val_accuracy: 0.8000\n",
      "Epoch 7/100\n",
      "3/3 [==============================] - 0s 40ms/step - loss: 0.5495 - accuracy: 0.7750 - val_loss: 0.5065 - val_accuracy: 0.7500\n",
      "Epoch 8/100\n",
      "3/3 [==============================] - 0s 47ms/step - loss: 0.4789 - accuracy: 0.8250 - val_loss: 0.4766 - val_accuracy: 0.8000\n",
      "Epoch 9/100\n",
      "3/3 [==============================] - 0s 40ms/step - loss: 0.4886 - accuracy: 0.7875 - val_loss: 0.4377 - val_accuracy: 0.8000\n",
      "Epoch 10/100\n",
      "3/3 [==============================] - 0s 47ms/step - loss: 0.4592 - accuracy: 0.8375 - val_loss: 0.4663 - val_accuracy: 0.7500\n",
      "Epoch 11/100\n",
      "3/3 [==============================] - 0s 45ms/step - loss: 0.4256 - accuracy: 0.8500 - val_loss: 0.3820 - val_accuracy: 0.8000\n",
      "Epoch 12/100\n",
      "3/3 [==============================] - 0s 47ms/step - loss: 0.3726 - accuracy: 0.9000 - val_loss: 0.4079 - val_accuracy: 0.8000\n",
      "Epoch 13/100\n",
      "3/3 [==============================] - 0s 49ms/step - loss: 0.3789 - accuracy: 0.8625 - val_loss: 0.3837 - val_accuracy: 0.8000\n",
      "Epoch 14/100\n",
      "3/3 [==============================] - 0s 46ms/step - loss: 0.2984 - accuracy: 0.9125 - val_loss: 0.3256 - val_accuracy: 0.8500\n",
      "Epoch 15/100\n",
      "3/3 [==============================] - 0s 54ms/step - loss: 0.2826 - accuracy: 0.9125 - val_loss: 0.3251 - val_accuracy: 0.8500\n",
      "Epoch 16/100\n",
      "3/3 [==============================] - 0s 60ms/step - loss: 0.2621 - accuracy: 0.9000 - val_loss: 0.3683 - val_accuracy: 0.8000\n",
      "Epoch 17/100\n",
      "3/3 [==============================] - 0s 51ms/step - loss: 0.2254 - accuracy: 0.9250 - val_loss: 0.2939 - val_accuracy: 0.8500\n",
      "Epoch 18/100\n",
      "3/3 [==============================] - 0s 49ms/step - loss: 0.2234 - accuracy: 0.9125 - val_loss: 0.2767 - val_accuracy: 0.8500\n",
      "Epoch 19/100\n",
      "3/3 [==============================] - 0s 56ms/step - loss: 0.1852 - accuracy: 0.9625 - val_loss: 0.3267 - val_accuracy: 0.8500\n",
      "Epoch 20/100\n",
      "3/3 [==============================] - 0s 51ms/step - loss: 0.2214 - accuracy: 0.9000 - val_loss: 0.2736 - val_accuracy: 0.8500\n",
      "Epoch 21/100\n",
      "3/3 [==============================] - 0s 52ms/step - loss: 0.1692 - accuracy: 0.9375 - val_loss: 0.2626 - val_accuracy: 0.8500\n",
      "Epoch 22/100\n",
      "3/3 [==============================] - 0s 58ms/step - loss: 0.1704 - accuracy: 0.9375 - val_loss: 0.2546 - val_accuracy: 0.9000\n",
      "Epoch 23/100\n",
      "3/3 [==============================] - 0s 63ms/step - loss: 0.1152 - accuracy: 0.9875 - val_loss: 0.2925 - val_accuracy: 0.8500\n",
      "Epoch 24/100\n",
      "3/3 [==============================] - 0s 52ms/step - loss: 0.1668 - accuracy: 0.9125 - val_loss: 0.2554 - val_accuracy: 0.8500\n",
      "Epoch 25/100\n",
      "3/3 [==============================] - 0s 60ms/step - loss: 0.1548 - accuracy: 0.9250 - val_loss: 0.2479 - val_accuracy: 0.9500\n",
      "Epoch 26/100\n",
      "3/3 [==============================] - 0s 54ms/step - loss: 0.1214 - accuracy: 0.9625 - val_loss: 0.2898 - val_accuracy: 0.8500\n",
      "Epoch 27/100\n",
      "3/3 [==============================] - 0s 47ms/step - loss: 0.1267 - accuracy: 0.9500 - val_loss: 0.2655 - val_accuracy: 0.8500\n",
      "Epoch 28/100\n",
      "3/3 [==============================] - 0s 50ms/step - loss: 0.1280 - accuracy: 0.9500 - val_loss: 0.2414 - val_accuracy: 0.9500\n",
      "Epoch 29/100\n",
      "3/3 [==============================] - 0s 47ms/step - loss: 0.1057 - accuracy: 0.9875 - val_loss: 0.2571 - val_accuracy: 0.8500\n",
      "Epoch 30/100\n",
      "3/3 [==============================] - 0s 47ms/step - loss: 0.0801 - accuracy: 0.9625 - val_loss: 0.3027 - val_accuracy: 0.8500\n",
      "Epoch 31/100\n",
      "3/3 [==============================] - 0s 64ms/step - loss: 0.0957 - accuracy: 0.9625 - val_loss: 0.2442 - val_accuracy: 0.9500\n",
      "Epoch 32/100\n",
      "3/3 [==============================] - 0s 47ms/step - loss: 0.0746 - accuracy: 0.9875 - val_loss: 0.2467 - val_accuracy: 0.9500\n",
      "Epoch 33/100\n",
      "3/3 [==============================] - 0s 55ms/step - loss: 0.0863 - accuracy: 0.9875 - val_loss: 0.2580 - val_accuracy: 0.9000\n",
      "Epoch 34/100\n",
      "3/3 [==============================] - 0s 42ms/step - loss: 0.0842 - accuracy: 0.9750 - val_loss: 0.3069 - val_accuracy: 0.8500\n",
      "Epoch 35/100\n",
      "3/3 [==============================] - 0s 39ms/step - loss: 0.0682 - accuracy: 0.9875 - val_loss: 0.2624 - val_accuracy: 0.9000\n",
      "Epoch 36/100\n",
      "3/3 [==============================] - 0s 40ms/step - loss: 0.0522 - accuracy: 1.0000 - val_loss: 0.2620 - val_accuracy: 0.9500\n",
      "Epoch 37/100\n",
      "3/3 [==============================] - 0s 40ms/step - loss: 0.0588 - accuracy: 0.9875 - val_loss: 0.2695 - val_accuracy: 0.9000\n",
      "Epoch 38/100\n",
      "3/3 [==============================] - 0s 40ms/step - loss: 0.0611 - accuracy: 0.9875 - val_loss: 0.3605 - val_accuracy: 0.8000\n",
      "Epoch 39/100\n",
      "3/3 [==============================] - 0s 40ms/step - loss: 0.0754 - accuracy: 0.9875 - val_loss: 0.2633 - val_accuracy: 0.9500\n",
      "Epoch 40/100\n",
      "3/3 [==============================] - 0s 40ms/step - loss: 0.0668 - accuracy: 1.0000 - val_loss: 0.2700 - val_accuracy: 0.9500\n",
      "Epoch 41/100\n",
      "3/3 [==============================] - 0s 40ms/step - loss: 0.0566 - accuracy: 1.0000 - val_loss: 0.2558 - val_accuracy: 0.9500\n",
      "Epoch 42/100\n",
      "3/3 [==============================] - 0s 38ms/step - loss: 0.0254 - accuracy: 1.0000 - val_loss: 0.2657 - val_accuracy: 0.9000\n",
      "Epoch 43/100\n",
      "3/3 [==============================] - 0s 40ms/step - loss: 0.0548 - accuracy: 0.9750 - val_loss: 0.2675 - val_accuracy: 0.9500\n",
      "Epoch 44/100\n",
      "3/3 [==============================] - 0s 39ms/step - loss: 0.0445 - accuracy: 0.9875 - val_loss: 0.2650 - val_accuracy: 0.9500\n",
      "Epoch 45/100\n",
      "3/3 [==============================] - 0s 39ms/step - loss: 0.0487 - accuracy: 0.9875 - val_loss: 0.2696 - val_accuracy: 0.9500\n",
      "Epoch 46/100\n",
      "3/3 [==============================] - 0s 40ms/step - loss: 0.0261 - accuracy: 1.0000 - val_loss: 0.2740 - val_accuracy: 0.9500\n",
      "Epoch 47/100\n",
      "3/3 [==============================] - 0s 39ms/step - loss: 0.0362 - accuracy: 1.0000 - val_loss: 0.2748 - val_accuracy: 0.9500\n",
      "Epoch 48/100\n",
      "3/3 [==============================] - 0s 40ms/step - loss: 0.0343 - accuracy: 0.9875 - val_loss: 0.2825 - val_accuracy: 0.9500\n",
      "Epoch 49/100\n",
      "3/3 [==============================] - 0s 39ms/step - loss: 0.0408 - accuracy: 0.9875 - val_loss: 0.2802 - val_accuracy: 0.9500\n",
      "Epoch 50/100\n",
      "3/3 [==============================] - 0s 39ms/step - loss: 0.0345 - accuracy: 1.0000 - val_loss: 0.2864 - val_accuracy: 0.9500\n",
      "Epoch 51/100\n",
      "3/3 [==============================] - 0s 42ms/step - loss: 0.0245 - accuracy: 1.0000 - val_loss: 0.2754 - val_accuracy: 0.9500\n",
      "Epoch 52/100\n",
      "3/3 [==============================] - 0s 40ms/step - loss: 0.0312 - accuracy: 0.9875 - val_loss: 0.2708 - val_accuracy: 0.9500\n",
      "Epoch 53/100\n",
      "3/3 [==============================] - 0s 41ms/step - loss: 0.0181 - accuracy: 1.0000 - val_loss: 0.2696 - val_accuracy: 0.9500\n",
      "Epoch 54/100\n",
      "3/3 [==============================] - 0s 38ms/step - loss: 0.0261 - accuracy: 0.9875 - val_loss: 0.2698 - val_accuracy: 0.9500\n",
      "Epoch 55/100\n",
      "3/3 [==============================] - 0s 43ms/step - loss: 0.0170 - accuracy: 1.0000 - val_loss: 0.2770 - val_accuracy: 0.9500\n",
      "Epoch 56/100\n",
      "3/3 [==============================] - 0s 37ms/step - loss: 0.0225 - accuracy: 1.0000 - val_loss: 0.2766 - val_accuracy: 0.9500\n",
      "Epoch 57/100\n",
      "3/3 [==============================] - 0s 39ms/step - loss: 0.0394 - accuracy: 0.9875 - val_loss: 0.2652 - val_accuracy: 0.9500\n",
      "Epoch 58/100\n",
      "3/3 [==============================] - 0s 37ms/step - loss: 0.0254 - accuracy: 0.9875 - val_loss: 0.2610 - val_accuracy: 0.9500\n",
      "Epoch 59/100\n"
     ]
    },
    {
     "name": "stdout",
     "output_type": "stream",
     "text": [
      "3/3 [==============================] - 0s 41ms/step - loss: 0.0170 - accuracy: 1.0000 - val_loss: 0.2610 - val_accuracy: 0.9500\n",
      "Epoch 60/100\n",
      "3/3 [==============================] - 0s 38ms/step - loss: 0.0184 - accuracy: 1.0000 - val_loss: 0.2606 - val_accuracy: 0.9500\n",
      "Epoch 61/100\n",
      "3/3 [==============================] - 0s 53ms/step - loss: 0.0153 - accuracy: 1.0000 - val_loss: 0.2606 - val_accuracy: 0.9500\n",
      "Epoch 62/100\n",
      "3/3 [==============================] - 0s 39ms/step - loss: 0.0250 - accuracy: 0.9875 - val_loss: 0.2673 - val_accuracy: 0.9500\n",
      "Epoch 63/100\n",
      "3/3 [==============================] - 0s 39ms/step - loss: 0.0105 - accuracy: 1.0000 - val_loss: 0.2736 - val_accuracy: 0.9500\n",
      "Epoch 64/100\n",
      "3/3 [==============================] - 0s 39ms/step - loss: 0.0127 - accuracy: 1.0000 - val_loss: 0.2683 - val_accuracy: 0.9500\n",
      "Epoch 65/100\n",
      "3/3 [==============================] - 0s 40ms/step - loss: 0.0133 - accuracy: 1.0000 - val_loss: 0.2642 - val_accuracy: 0.9500\n",
      "Epoch 66/100\n",
      "3/3 [==============================] - 0s 40ms/step - loss: 0.0199 - accuracy: 0.9875 - val_loss: 0.2775 - val_accuracy: 0.9500\n",
      "Epoch 67/100\n",
      "3/3 [==============================] - 0s 39ms/step - loss: 0.0119 - accuracy: 1.0000 - val_loss: 0.2936 - val_accuracy: 0.9500\n",
      "Epoch 68/100\n",
      "3/3 [==============================] - 0s 38ms/step - loss: 0.0202 - accuracy: 0.9875 - val_loss: 0.2803 - val_accuracy: 0.9500\n",
      "Epoch 69/100\n",
      "3/3 [==============================] - 0s 39ms/step - loss: 0.0204 - accuracy: 1.0000 - val_loss: 0.2790 - val_accuracy: 0.9500\n",
      "Epoch 70/100\n",
      "3/3 [==============================] - 0s 42ms/step - loss: 0.0118 - accuracy: 1.0000 - val_loss: 0.2745 - val_accuracy: 0.9500\n",
      "Epoch 71/100\n",
      "3/3 [==============================] - 0s 38ms/step - loss: 0.0152 - accuracy: 1.0000 - val_loss: 0.2719 - val_accuracy: 0.9500\n",
      "Epoch 72/100\n",
      "3/3 [==============================] - 0s 42ms/step - loss: 0.0113 - accuracy: 1.0000 - val_loss: 0.2885 - val_accuracy: 0.9500\n",
      "Epoch 73/100\n",
      "3/3 [==============================] - 0s 39ms/step - loss: 0.0100 - accuracy: 1.0000 - val_loss: 0.2941 - val_accuracy: 0.9500\n",
      "Epoch 74/100\n",
      "3/3 [==============================] - 0s 41ms/step - loss: 0.0129 - accuracy: 1.0000 - val_loss: 0.2845 - val_accuracy: 0.9500\n",
      "Epoch 75/100\n",
      "3/3 [==============================] - 0s 38ms/step - loss: 0.0109 - accuracy: 1.0000 - val_loss: 0.2764 - val_accuracy: 0.9500\n",
      "Epoch 76/100\n",
      "3/3 [==============================] - 0s 39ms/step - loss: 0.0078 - accuracy: 1.0000 - val_loss: 0.2887 - val_accuracy: 0.9500\n",
      "Epoch 77/100\n",
      "3/3 [==============================] - 0s 39ms/step - loss: 0.0109 - accuracy: 1.0000 - val_loss: 0.3165 - val_accuracy: 0.9500\n",
      "Epoch 78/100\n",
      "3/3 [==============================] - 0s 38ms/step - loss: 0.0221 - accuracy: 0.9875 - val_loss: 0.3352 - val_accuracy: 0.9500\n",
      "Epoch 79/100\n",
      "3/3 [==============================] - 0s 39ms/step - loss: 0.0051 - accuracy: 1.0000 - val_loss: 0.3166 - val_accuracy: 0.9500\n",
      "Epoch 80/100\n",
      "3/3 [==============================] - 0s 39ms/step - loss: 0.0138 - accuracy: 1.0000 - val_loss: 0.2998 - val_accuracy: 0.9500\n",
      "Epoch 81/100\n",
      "3/3 [==============================] - 0s 42ms/step - loss: 0.0131 - accuracy: 1.0000 - val_loss: 0.2930 - val_accuracy: 0.9500\n",
      "Epoch 82/100\n",
      "3/3 [==============================] - 0s 39ms/step - loss: 0.0110 - accuracy: 1.0000 - val_loss: 0.2999 - val_accuracy: 0.9500\n",
      "Epoch 83/100\n",
      "3/3 [==============================] - 0s 44ms/step - loss: 0.0206 - accuracy: 1.0000 - val_loss: 0.3288 - val_accuracy: 0.9500\n",
      "Epoch 84/100\n",
      "3/3 [==============================] - 0s 44ms/step - loss: 0.0114 - accuracy: 1.0000 - val_loss: 0.3326 - val_accuracy: 0.9500\n",
      "Epoch 85/100\n",
      "3/3 [==============================] - 0s 49ms/step - loss: 0.0119 - accuracy: 1.0000 - val_loss: 0.3106 - val_accuracy: 0.9500\n",
      "Epoch 86/100\n",
      "3/3 [==============================] - 0s 52ms/step - loss: 0.0065 - accuracy: 1.0000 - val_loss: 0.2849 - val_accuracy: 0.9500\n",
      "Epoch 87/100\n",
      "3/3 [==============================] - 0s 49ms/step - loss: 0.0057 - accuracy: 1.0000 - val_loss: 0.2799 - val_accuracy: 0.9500\n",
      "Epoch 88/100\n",
      "3/3 [==============================] - 0s 58ms/step - loss: 0.0072 - accuracy: 1.0000 - val_loss: 0.2870 - val_accuracy: 0.9500\n",
      "Epoch 89/100\n",
      "3/3 [==============================] - 0s 56ms/step - loss: 0.0055 - accuracy: 1.0000 - val_loss: 0.3158 - val_accuracy: 0.9500\n",
      "Epoch 90/100\n",
      "3/3 [==============================] - 0s 55ms/step - loss: 0.0055 - accuracy: 1.0000 - val_loss: 0.3498 - val_accuracy: 0.9500\n",
      "Epoch 91/100\n",
      "3/3 [==============================] - 0s 57ms/step - loss: 0.0062 - accuracy: 1.0000 - val_loss: 0.3614 - val_accuracy: 0.9500\n",
      "Epoch 92/100\n",
      "3/3 [==============================] - 0s 57ms/step - loss: 0.0090 - accuracy: 1.0000 - val_loss: 0.3415 - val_accuracy: 0.9500\n",
      "Epoch 93/100\n",
      "3/3 [==============================] - 0s 54ms/step - loss: 0.0055 - accuracy: 1.0000 - val_loss: 0.3228 - val_accuracy: 0.9500\n",
      "Epoch 94/100\n",
      "3/3 [==============================] - 0s 55ms/step - loss: 0.0028 - accuracy: 1.0000 - val_loss: 0.3144 - val_accuracy: 0.9500\n",
      "Epoch 95/100\n",
      "3/3 [==============================] - 0s 56ms/step - loss: 0.0028 - accuracy: 1.0000 - val_loss: 0.3150 - val_accuracy: 0.9500\n",
      "Epoch 96/100\n",
      "3/3 [==============================] - 0s 54ms/step - loss: 0.0046 - accuracy: 1.0000 - val_loss: 0.3162 - val_accuracy: 0.9500\n",
      "Epoch 97/100\n",
      "3/3 [==============================] - 0s 56ms/step - loss: 0.0034 - accuracy: 1.0000 - val_loss: 0.3196 - val_accuracy: 0.9500\n",
      "Epoch 98/100\n",
      "3/3 [==============================] - 0s 58ms/step - loss: 0.0032 - accuracy: 1.0000 - val_loss: 0.3215 - val_accuracy: 0.9500\n",
      "Epoch 99/100\n",
      "3/3 [==============================] - 0s 54ms/step - loss: 0.0039 - accuracy: 1.0000 - val_loss: 0.3298 - val_accuracy: 0.9500\n",
      "Epoch 100/100\n",
      "3/3 [==============================] - 0s 54ms/step - loss: 0.0013 - accuracy: 1.0000 - val_loss: 0.3387 - val_accuracy: 0.9500\n"
     ]
    }
   ],
   "source": [
    "H = model.fit(x_train, y_train, validation_data=(x_test, y_test), \n",
    "          epochs=max_epochs, batch_size=32)"
   ]
  },
  {
   "cell_type": "code",
   "execution_count": 14,
   "metadata": {},
   "outputs": [
    {
     "data": {
      "image/png": "[encoded data removed]",
      "text/plain": [
       "<Figure size 432x288 with 1 Axes>"
      ]
     },
     "metadata": {},
     "output_type": "display_data"
    }
   ],
   "source": [
    "N = np.arange(0, max_epochs)\n",
    "plt.style.use(\"ggplot\")\n",
    "plt.figure()\n",
    "plt.plot(N, H.history[\"loss\"], label=\"train_loss\")\n",
    "plt.plot(N, H.history[\"val_loss\"], label=\"val_loss\")\n",
    "#plt.plot(N, H.history[\"accuracy\"], label=\"train_acc\")\n",
    "#plt.plot(N, H.history[\"val_accuracy\"], label=\"val_acc\")\n",
    "plt.xlabel(\"Epoch #\")\n",
    "plt.legend()\n",
    "plt.show()"
   ]
  },
  {
   "cell_type": "markdown",
   "metadata": {},
   "source": [
    "<h3>7. Evaluate the Model</h3>"
   ]
  },
  {
   "cell_type": "code",
   "execution_count": 15,
   "metadata": {},
   "outputs": [
    {
     "name": "stdout",
     "output_type": "stream",
     "text": [
      "              precision    recall  f1-score   support\n",
      "\n",
      "     kemangi       1.00      0.88      0.93         8\n",
      "    blimbing       0.92      1.00      0.96        12\n",
      "\n",
      "    accuracy                           0.95        20\n",
      "   macro avg       0.96      0.94      0.95        20\n",
      "weighted avg       0.95      0.95      0.95        20\n",
      "\n"
     ]
    }
   ],
   "source": [
    "# menghitung nilai akurasi model terhadap data test\n",
    "predictions = model.predict(x_test, batch_size=32)\n",
    "target = (predictions > 0.5).astype(np.int32)\n",
    "print(classification_report(y_test, target, target_names=label_list))"
   ]
  },
  {
   "cell_type": "code",
   "execution_count": 18,
   "metadata": {},
   "outputs": [
    {
     "name": "stdout",
     "output_type": "stream",
     "text": [
      "[[0.00010437]]\n"
     ]
    }
   ],
   "source": [
    "# uji model menggunakan image lain\n",
    "queryPath = imagePaths+'007.jpg'\n",
    "query = cv2.imread(queryPath)\n",
    "output = query.copy()\n",
    "query = cv2.resize(query, (32, 32))\n",
    "q = []\n",
    "q.append(query)\n",
    "q = np.array(q, dtype='float') / 255.0\n",
    "\n",
    "q_pred = model.predict(q)\n",
    "print(q_pred)"
   ]
  },
  {
   "cell_type": "code",
   "execution_count": null,
   "metadata": {},
   "outputs": [],
   "source": [
    "if q_pred<=0.5 :\n",
    "    target = \"Blimbing\"\n",
    "else :\n",
    "    target = \"Kemangi\"\n",
    "text = \"{}\".format(target)\n",
    "cv2.putText(output, text, (10, 30), cv2.FONT_HERSHEY_SIMPLEX, 0.7, (0, 0, 255), 2)\n",
    " \n",
    "# menampilkan output image\n",
    "cv2.imshow('Output', output)\n",
    "cv2.waitKey() # image tidak akan diclose,sebelum user menekan sembarang tombol\n",
    "cv2.destroyWindow('Output') # image akan diclose"
   ]
  },
  {
   "cell_type": "code",
   "execution_count": null,
   "metadata": {},
   "outputs": [],
   "source": []
  }
 ],
 "metadata": {
  "kernelspec": {
   "display_name": "Python 3 (ipykernel)",
   "language": "python",
   "name": "python3"
  },
  "language_info": {
   "codemirror_mode": {
    "name": "ipython",
    "version": 3
   },
   "file_extension": ".py",
   "mimetype": "text/x-python",
   "name": "python",
   "nbconvert_exporter": "python",
   "pygments_lexer": "ipython3",
   "version": "3.9.7"
  }
 },
 "nbformat": 4,
 "nbformat_minor": 4
}
